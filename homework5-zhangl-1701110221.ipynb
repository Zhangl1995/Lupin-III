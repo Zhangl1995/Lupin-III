{
 "cells": [
  {
   "cell_type": "markdown",
   "metadata": {},
   "source": [
    "# 1. Nuclear Reactions I. Dimensional Analysis"
   ]
  },
  {
   "cell_type": "markdown",
   "metadata": {},
   "source": [
    "$\\epsilon \\sim X^{2}\\rho T^{4}$\n",
    "\n",
    "$\\kappa \\sim Z(1+X)\\rho T^{-3.5}$"
   ]
  },
  {
   "cell_type": "markdown",
   "metadata": {},
   "source": [
    "## (a)"
   ]
  },
  {
   "cell_type": "markdown",
   "metadata": {},
   "source": [
    "for nuclear reactions, we have\n",
    "\n",
    "$\\frac{dl}{dx} = M\\epsilon X^{2}\\rho T^{4}$\n",
    "\n",
    "for the homologous stellar model (ignore the scaling in terms of X and $\\mu$)\n",
    "\n",
    "that means $\\frac{l_{2}(x)}{l_{1}(x)} = \\frac{\\rho_{2}T_{2}^{4}}{\\rho_{1}T_{1}^{4}}$\n",
    "\n",
    "and when the stars are in radiative equilibrium\n",
    "\n",
    "we have $\\frac{d(T^{4})}{dx} = -\\frac{3M}{16\\pi^{2}ac}\\frac{\\kappa l}{r^{4}}$\n",
    "\n",
    "=> $\\frac{l_{2}(x)}{l_{1}(x)} = (\\frac{M_{2}}{M_{1}})^{3}(\\frac{\\kappa_{2}}{\\kappa_{1}})^{-1} = (\\frac{M_{2}}{M_{1}})^{3}(\\frac{Z_{2}}{Z_{1}})^{-1}(\\frac{\\rho_{2}}{\\rho_{1}})^{-1}(\\frac{T_{2}}{T{1}})^{3.5}$\n",
    "\n",
    "for homologous stellar model we can also get \n",
    "\n",
    "$\\frac{\\rho_{2}(x)}{\\rho_{1}(x)} = \\frac{M_{2}}{M_{1}}(\\frac{R_{2}}{R_{1}})^{-3}$ and $\\frac{P_{2}(x)}{P_{1}(x)} = (\\frac{M_{2}}{M_{1}})^{2}(\\frac{R_{2}}{R_{1}})^{-4}$ \n",
    "\n",
    "along with the state equation $P = \\frac{\\mathcal{R}}{\\mu}\\rho T$ for ideal gas\n",
    "\n",
    "we can get $\\frac{T_{2}(x)}{T_{1}(x)} = \\frac{M_{2}}{M_{1}}(\\frac{R_{2}}{R_{1}})^{-1}$\n",
    "\n",
    "given $\\frac{l_{2}(x)}{l_{1}(x)} = \\frac{\\rho_{2}T_{2}^{4}}{\\rho_{1}T_{1}^{4}} = (\\frac{M_{2}}{M_{1}})^{3}(\\frac{\\kappa_{2}}{\\kappa_{1}})^{-1}$\n",
    "\n",
    "we can get $\\frac{R_{2}}{R_{1}} = (\\frac{M_{2}}{M_{1}})^{1/13}(\\frac{Z_{2}}{Z_{1}})^{2/13}$\n",
    "\n",
    "then from $\\frac{l_{2}(x)}{l_{1}(x)} = \\frac{\\rho_{2}T_{2}^{4}}{\\rho_{1}T_{1}^{4}} = (\\frac{M_{2}}{M_{1}})^{5}(\\frac{R_{2}}{R_{1}})^{-7}$\n",
    "\n",
    "we can get $\\frac{l_{2}(x)}{l_{1}(x)} = (\\frac{M_{2}}{M_{1}})^{58/65}(\\frac{Z_{2}}{Z_{1}})^{-14/13}$\n",
    "\n",
    "that $L \\sim M^{\\alpha}Z^{\\beta}\\qquad$ where $\\alpha = 58/65\\qquad\\beta = -14/13$ "
   ]
  },
  {
   "cell_type": "markdown",
   "metadata": {},
   "source": [
    "## (b)"
   ]
  },
  {
   "cell_type": "markdown",
   "metadata": {},
   "source": [
    "with $L \\sim M^{58/65}Z^{-14/13}$\n",
    "\n",
    "from which we can get $M \\sim L^{65/58}Z^{70/58}$\n",
    "\n",
    "then $R^{2} \\sim M^{2/13}Z^{4/13} \\sim L^{5/29}Z^{186/377}$\n",
    "\n",
    "thus $L \\sim R^{2}T_{eff}^{4} \\sim L^{5/29}Z^{186/377}T_{eff}^{4}$\n",
    "\n",
    "=> $L \\sim Z^{\\xi}T_{eff}^{\\eta}\\qquad$ where $\\xi = \\frac{31}{42}\\qquad\\eta = \\frac{29}{6}$"
   ]
  },
  {
   "cell_type": "markdown",
   "metadata": {},
   "source": [
    "## (c)"
   ]
  },
  {
   "cell_type": "markdown",
   "metadata": {},
   "source": [
    "For population I stars are matal-rich while population II stars are metal-poor, so give the same \n",
    "\n",
    "effective temperature the population I stars should be more brighter. In other words, give the \n",
    "\n",
    "same spectral type, the spectra of population I stars should be much intenser.\n",
    "\n",
    "Given that $\\frac{Z_{I}}{Z_{II}} \\sim 10$, $\\frac{L_{I}}{L_{II}} \\sim 10^{31/42} \\sim 5.5 $ \n",
    "\n",
    "where the subscript 'I' and 'II' respectively corresponding to population I stars and population II stars."
   ]
  },
  {
   "cell_type": "markdown",
   "metadata": {},
   "source": [
    "# 2. Nuclear Reactions II"
   ]
  },
  {
   "cell_type": "markdown",
   "metadata": {},
   "source": [
    "## (a)"
   ]
  },
  {
   "cell_type": "code",
   "execution_count": 74,
   "metadata": {},
   "outputs": [
    {
     "name": "stdout",
     "output_type": "stream",
     "text": [
      "EI     :   1.442    MeV\n",
      "EII    :   5.493    MeV\n",
      "EIII   :   12.860   MeV\n",
      "E_tot  :   26.731   MeV\n",
      "E_tot2 :   26.731   MeV\n"
     ]
    }
   ],
   "source": [
    "import numpy as np\n",
    "\n",
    "\n",
    "m_u = 1.6605388*10**-27   #kg\n",
    "m_H = 1.00782503224*m_u     #kg\n",
    "m_D = 2.01410177811*m_u     #kg\n",
    "m_He3 = 3.0160293191*m_u    #kg\n",
    "m_He = 4.00260325415*m_u      #kg\n",
    "m_e = 9.109382*10**-31   #kg\n",
    "c = 2.99792458*10**8     #m s^-1\n",
    "\n",
    "EI = (2*m_H - m_D)*c**2/(1.6021765*10**-13)\n",
    "EII = (m_H + m_D - m_He3)*c**2/(1.6021765*10**-13)\n",
    "EIII = (2*m_He3 - m_He-2*m_H)*c**2/(1.6021765*10**-13)\n",
    "\n",
    "print('EI     :   %-6.3f   MeV'%EI)\n",
    "print('EII    :   %-6.3f   MeV'%EII)\n",
    "print('EIII   :   %-6.3f   MeV'%EIII)\n",
    "\n",
    "E_tot = 2*EI +2*EII +EIII\n",
    "E_tot2 = (4*m_H - m_He)*c**2/(1.6021765*10**-13)\n",
    "\n",
    "print('E_tot  :   %-6.3f   MeV'%E_tot)\n",
    "print('E_tot2 :   %-6.3f   MeV'%E_tot2)"
   ]
  },
  {
   "cell_type": "markdown",
   "metadata": {},
   "source": [
    "PPI chain reaction\n",
    "\n",
    "I.   $\\ ^{1}H + \\ ^{1}H \\to \\ ^{2}H + 2\\gamma_{e} + \\nu_{e}$\n",
    "\n",
    "II.  $\\ ^{2}H + \\ ^{1}H \\to \\ ^{3}He + \\gamma$\n",
    "\n",
    "III. $\\ ^{3}He + \\ ^{3}He \\to \\ ^{4}He + 2\\ ^{1}H$"
   ]
  },
  {
   "cell_type": "markdown",
   "metadata": {},
   "source": [
    "$E_{I} = [m(2\\ ^{1}H) - m(\\ ^{2}H)]c^{2} = 1.442\\ Mev$\n",
    "\n",
    "$E_{II} = [m(\\ ^{1}H) + m(\\ ^{2}H) - m(\\ ^{3}He)]c^{2} = 5.493\\ Mev$\n",
    "\n",
    "$E_{III} = [m(2\\ ^{3}He) - m(\\ ^{4}He) - m(2\\ ^{1}H)]c^{2} = 12.860\\ Mev$"
   ]
  },
  {
   "cell_type": "markdown",
   "metadata": {},
   "source": [
    "## (b)"
   ]
  },
  {
   "cell_type": "markdown",
   "metadata": {},
   "source": [
    "for the whole PPI chain reaction is $4\\ ^{1}H \\to \\ ^{4}He + 4\\gamma_{e} + 2\\gamma + 2\\nu_{e}$\n",
    "\n",
    "which takes twice reaction I ,twice reaction II and one time reaction III\n",
    "\n",
    "so we can get the total energy released in PPI chain reaction is $E_{PPI} = 2E_{I} + 2E_{II} + E_{III} = 26.73\\ MeV$"
   ]
  },
  {
   "cell_type": "markdown",
   "metadata": {},
   "source": [
    "## (c)"
   ]
  },
  {
   "cell_type": "markdown",
   "metadata": {},
   "source": [
    "For above calculation of released energy including the energy carried by neutrino, and the neutrino that having \n",
    "\n",
    "a weak interaction with matter will escape the star with its energy carried off from the star, so the energy released\n",
    "\n",
    "to the star will be less than above result. As all the PP chain reactions is to convert $\\ 4^{1}H$ to $\\ ^{4}He$, the more energy\n",
    "\n",
    "carried off by the neutrino, the less energy released to the star.\n",
    "\n",
    "With the energies of the neutrinos that are produced by the PPI reaction is 0.265MeV from the first step p-p reaction,\n",
    "\n",
    "and the energies of the neutrinos that are produced by the PPII reaction is 0.814MeV from electron capture of $\\ ^{7}Be$,\n",
    "\n",
    "and the energies of the neutrinos that are produced by the PPIII reaction is 6.71MeV from the $\\beta^{+}$ decay of $\\ ^{8}B$.\n",
    "\n",
    "So PPI releases more energy to the star, and the energy released by unit mass in each case is $(E_{tot}-E_{neu})\\times N_{A}/4$\n",
    "\n",
    "which are 3.984e+18 TeV, 3.902e+18 TeV and 3.014e+18 TeV in PPI, PPII and PPIII."
   ]
  },
  {
   "cell_type": "code",
   "execution_count": 79,
   "metadata": {},
   "outputs": [
    {
     "name": "stdout",
     "output_type": "stream",
     "text": [
      "PPI     :   3.984e+18   TeV\n",
      "PPII    :   3.902e+18   TeV\n",
      "PPIII   :   3.014e+18   TeV\n"
     ]
    }
   ],
   "source": [
    "N_A = 6.022140857*10**23  #mol^-1\n",
    "E_tot = 26.73             #MeV\n",
    "E_neu1 = 0.265            #MeV\n",
    "E_neu2 = 0.814            #MeV\n",
    "E_neu3 = 6.71             #MeV\n",
    "\n",
    "PPI = (E_tot-E_neu1)*N_A/4/10**6\n",
    "PPII = (E_tot-E_neu2)*N_A/4/10**6\n",
    "PPIII = (E_tot-E_neu3)*N_A/4/10**6\n",
    "\n",
    "print('PPI     :   %-.3e   TeV'%PPI)\n",
    "print('PPII    :   %-.3e   TeV'%PPII)\n",
    "print('PPIII   :   %-.3e   TeV'%PPIII)"
   ]
  },
  {
   "cell_type": "markdown",
   "metadata": {},
   "source": [
    "## (d)"
   ]
  },
  {
   "cell_type": "code",
   "execution_count": 84,
   "metadata": {
    "scrolled": true
   },
   "outputs": [
    {
     "name": "stdout",
     "output_type": "stream",
     "text": [
      "EI      :   -0.092   MeV\n",
      "EII     :   7.367    MeV\n",
      "E_tot   :   7.275    MeV\n",
      "E_unit     :   1.095e+18   TeV\n"
     ]
    }
   ],
   "source": [
    "import numpy as np\n",
    "\n",
    "N_A = 6.022140857*10**23  #mol^-1\n",
    "\n",
    "m_u = 1.6605388*10**-27    #kg\n",
    "\n",
    "m_He = 4.00260325415*m_u   #kg\n",
    "m_Be = 8.00530510*m_u      #kg\n",
    "m_C = 12*m_u      #kg\n",
    "c = 2.99792458*10**8      #m s^-1\n",
    "\n",
    "EI = (2*m_He - m_Be)*c**2/(1.6021765*10**-13)\n",
    "EII = (m_He + m_Be - m_C)*c**2/(1.6021765*10**-13)\n",
    "\n",
    "print('EI      :   %-6.3f   MeV'%EI)\n",
    "print('EII     :   %-6.3f   MeV'%EII)\n",
    "\n",
    "E_tot = EI + EII\n",
    "\n",
    "print('E_tot   :   %-6.3f   MeV'%E_tot)\n",
    "\n",
    "E_unit = (E_tot)*N_A/4/10**6\n",
    "\n",
    "print('E_unit     :   %-.3e   TeV'%E_unit)"
   ]
  },
  {
   "cell_type": "markdown",
   "metadata": {},
   "source": [
    "for $3\\alpha$ reaction\n",
    "\n",
    "$\\ ^{4}He + \\ ^{4}He \\to \\ ^{8}_{4}Be$\n",
    "\n",
    "$EI = (m(2\\ ^{4}He) - m(\\ ^{8}_{4}Be))c^{2} = -0.092MeV$\n",
    "\n",
    "$\\ ^{8}_{4}Be + \\ ^{4}He \\to \\ ^{12}_{6}C + 2\\gamma$\n",
    "\n",
    "$EII = (m(2\\ ^{4}He) + m(\\ ^{8}_{4}Be) - m(\\ ^{12}_{6}C))c^{2} = 7.367MeV$\n",
    "\n",
    "$E_{tot} = EI + EII = 7.275MeV$\n",
    "\n",
    "$E_{unit} = (E_tot)\\times N_A/4/10^{6} = 1.095\\times10^{18}TeV$"
   ]
  },
  {
   "cell_type": "markdown",
   "metadata": {},
   "source": [
    "## (e)"
   ]
  },
  {
   "cell_type": "code",
   "execution_count": 86,
   "metadata": {},
   "outputs": [
    {
     "name": "stdout",
     "output_type": "stream",
     "text": [
      "t_i      :   2.126e+10   yr\n",
      "t_ii     :   5.844e+09   yr\n"
     ]
    }
   ],
   "source": [
    "import numpy as np\n",
    "\n",
    "M_sun = 2*10**33           #g\n",
    "L_sun = 3.8*10**33         #erg s^-1\n",
    "\n",
    "PPI_u_E = 3.984e+30        #eV\n",
    "trialpha_u_E = 1.095e+30   #eV\n",
    "\n",
    "t_i = 0.2*M_sun*PPI_u_E*1.6*10**-12/L_sun/(365.24*24*3600)\n",
    "t_ii = 0.2*M_sun*trialpha_u_E*1.6*10**-12/L_sun/(365.24*24*3600)\n",
    "\n",
    "print('t_i      :   %-.3e   yr'%t_i)\n",
    "print('t_ii     :   %-.3e   yr'%t_ii)"
   ]
  },
  {
   "cell_type": "markdown",
   "metadata": {},
   "source": [
    "Through the calculation, we can get the time a stellar core of 0.2$m_{\\odot}$ supporting a luminosity of $L_{\\odot}$\n",
    "\n",
    "respectively are 2.126e+10 yr and 5.844e+09 yr burning H by the PPI chain and He by the $3\\alpha$ reaction,\n",
    "\n",
    "which means the H burning is more effective than He burning."
   ]
  },
  {
   "cell_type": "markdown",
   "metadata": {},
   "source": [
    "# 3. The pre-main sequence"
   ]
  },
  {
   "cell_type": "markdown",
   "metadata": {},
   "source": [
    "## (a)"
   ]
  },
  {
   "cell_type": "markdown",
   "metadata": {},
   "source": [
    "for $L = -\\dot{E}_{tot} = -(\\dot{E}_{nuc} + \\dot{E}_{int} + \\dot{E}_{gr})$\n",
    "\n",
    "and if hydrostatic equilibrium with virial theorem we have\n",
    "\n",
    "$E_{int} = -\\frac{1}{2}E_{gr}$\n",
    "\n",
    "then we can get $L = -\\dot{E}_{tot} = -(\\dot{E}_{nuc} + \\frac{1}{2}\\dot{E}_{gr}) = L_{nuc} + L_{grav}$"
   ]
  },
  {
   "cell_type": "markdown",
   "metadata": {},
   "source": [
    "## (b)"
   ]
  },
  {
   "cell_type": "markdown",
   "metadata": {},
   "source": [
    "if no nuclear sources\n",
    "\n",
    "$L = L_{grac}$\n",
    "\n",
    "$-\\frac{1}{2}\\dot{\\Omega}(R(t)) = L$\n",
    "\n",
    "$\\frac{1}{2}\\Omega(R(t)) = \\frac{1}{2}\\Omega(R_{0}) - Lt$\n",
    "\n",
    "and $\\Omega = \\alpha\\frac{GM^{2}}{R}\\ \\propto\\ R^{-1}\\qquad$($\\alpha = -\\frac{3}{5-n} = -\\frac{6}{7} $ here for polytropy model)\n",
    "\n",
    "$\\frac{\\Omega(R_{t})}{\\Omega(R(0))} =\\frac{R(0)}{R_{t}} = 1 - t/\\tau$\n",
    "\n",
    "=> $R(t) = \\frac{R_{0}}{1 - t/\\tau}\\qquad \\tau = \\frac{0.5\\Omega(R_{0})}{L}$(here I give a minus in the denominator for the $\\Omega(R_{0} < 0)$)"
   ]
  },
  {
   "cell_type": "markdown",
   "metadata": {},
   "source": [
    "## (c)"
   ]
  },
  {
   "cell_type": "markdown",
   "metadata": {},
   "source": [
    "with ideal gas for a homologous stellar model\n",
    "\n",
    "we have $P_{c} = \\frac{\\mathcal{R}}{\\mu}T_{c}\\rho_{c}$\n",
    "\n",
    "and $P_{c} = C_{n}GM^{2/3}\\rho_{c}^{4/3}\\qquad$ where $C_{n} = \\frac{(4\\pi)^{-1/3}}{n+1}\\Theta_{n}^{-2/3}$ here is approximately equal to 0.478  \n",
    "\n",
    "then we can get that \n",
    "\n",
    "$T_{c} = C_{n}\\frac{G}{\\mathcal{R}}\\mu M^{2/3}\\rho^{1/3}$\n",
    "\n",
    "also for the polytrope $P_{c} = K\\rho_{c}^{1+\\frac{1}{n}}\\qquad$ where $n = 3/2\\qquad K = N_{n}GM^{1/3}R = 0.42422GM^{1/3}R$\n",
    "\n",
    "we can get that $\\rho_{c}^{1/3} = \\frac{C_{n}M^{1/3}}{N_{n}R}$\n",
    "\n",
    "with which we can finally get $T_{c} = \\frac{\\mu C_{n}^{2}G}{N_{n}\\mathcal{R}}\\frac{M}{R} = \\frac{\\mu C_{n}^{2}G}{N_{n}\\mathcal{R}}\\frac{M}{R_{0}}(1 - t/\\tau)$"
   ]
  },
  {
   "cell_type": "markdown",
   "metadata": {},
   "source": [
    "## (d)"
   ]
  },
  {
   "cell_type": "markdown",
   "metadata": {},
   "source": [
    "$R(t) = \\frac{R_{0}}{1 - t/\\tau}\\qquad \\tau = \\frac{0.5\\Omega(R_{0})}{L}$\n",
    "\n",
    "$T_{c} = \\frac{\\mu C_{n}^{2}G}{N_{n}\\mathcal{R}}\\frac{M}{R} = \\frac{\\mu C_{n}^{2}G}{N_{n}\\mathcal{R}}\\frac{M}{R_{0}}(1 - t/\\tau)$\n",
    "\n",
    "$\\Omega = \\alpha\\frac{GM^{2}}{R}$"
   ]
  },
  {
   "cell_type": "code",
   "execution_count": 42,
   "metadata": {
    "scrolled": false
   },
   "outputs": [
    {
     "data": {
      "image/png": "[encoded data removed]",
      "text/plain": [
       "<matplotlib.figure.Figure at 0x97a2550>"
      ]
     },
     "metadata": {},
     "output_type": "display_data"
    },
    {
     "data": {
      "image/png": "[encoded data removed]",
      "text/plain": [
       "<matplotlib.figure.Figure at 0x95a0a90>"
      ]
     },
     "metadata": {},
     "output_type": "display_data"
    }
   ],
   "source": [
    "import numpy as np\n",
    "import matplotlib.pyplot as plt\n",
    "\n",
    "G = 6.7*10**-8     #erg cm g^-2\n",
    "R_ = 8.31447*10**7 #erg g^−1 K^−1\n",
    "M_sun = 2*10**33   #g\n",
    "R_sun = 7*10**10   #cm\n",
    "L_sun = 3.8*10**33 #erg s^-1\n",
    "\n",
    "mu = 0.5\n",
    "Cn = 0.478\n",
    "Nn = 0.42422\n",
    "\n",
    "Omega_R0 = -(6/7)*G*M_sun**2/(4*R_sun)\n",
    "tau = 0.5*Omega_R0/(4*L_sun)\n",
    "\n",
    "t_end = 5*10**6*365.24*24*3600\n",
    "dt = 10**4*365.24*24*3600\n",
    "t = np.arange(0,t_end,dt)\n",
    "\n",
    "R_t = 4*R_sun/(1-t/tau)\n",
    "T_c = mu*Cn**2*G*M_sun/(Nn*R_*4*R_sun)*(1-t/tau)\n",
    "\n",
    "t = t/(365.24*24*3600)\n",
    "R_t = R_t/R_sun\n",
    "plt.plot(t,R_t,'k')\n",
    "plt.xlabel('$time(yr)$',fontsize=15)\n",
    "plt.ylabel('$R(t)(R_{\\\\odot})$',fontsize=15)\n",
    "plt.show()\n",
    "\n",
    "plt.plot(t,T_c,'k')\n",
    "plt.xlabel('$time(yr)$',fontsize=15)\n",
    "plt.ylabel('$T_{c}(t)(K)$',fontsize=15)\n",
    "plt.show()"
   ]
  },
  {
   "cell_type": "markdown",
   "metadata": {},
   "source": [
    "## (e)"
   ]
  },
  {
   "cell_type": "code",
   "execution_count": 54,
   "metadata": {},
   "outputs": [
    {
     "name": "stdout",
     "output_type": "stream",
     "text": [
      "t_ms   :   4.66e+06   yr\n",
      "R_ms   :   0.62       R_sun\n",
      "t_KH   :   8.55e+05   yr\n"
     ]
    }
   ],
   "source": [
    "import numpy as np\n",
    "import matplotlib.pyplot as plt\n",
    "\n",
    "G = 6.7*10**-8     #erg cm g^-2\n",
    "R_ = 8.31447*10**7 #erg g^−1 K^−1\n",
    "M_sun = 2*10**33   #g\n",
    "R_sun = 7*10**10   #cm\n",
    "L_sun = 3.8*10**33 #erg s^-1\n",
    "\n",
    "mu = 0.5\n",
    "Cn = 0.478\n",
    "Nn = 0.42422\n",
    "\n",
    "Omega_R0 = -(6/7)*G*M_sun**2/(4*R_sun)\n",
    "tau = 0.5*Omega_R0/(4*L_sun)\n",
    "\n",
    "#t_end = 5*10**6*365.24*24*3600\n",
    "#dt = 10**4*365.24*24*3600\n",
    "#t = np.arange(0,t_end,dt)\n",
    "\n",
    "#R_t = 4*R_sun/(1-t/tau)\n",
    "#T_c = mu*Cn**2*G*M_sun/(Nn*R_*4*R_sun)*(1-t/tau)\n",
    "T_c = 10**7\n",
    "\n",
    "t = (1 - T_c/(mu*Cn**2*G*M_sun/(Nn*R_*4*R_sun)))*tau\n",
    "\n",
    "R_t = 4*R_sun/(1-t/tau)\n",
    "\n",
    "t_ms = t/(365.24*24*3600)\n",
    "R_ms = R_t/R_sun\n",
    "t_KH = -tau/(365.24*24*3600)\n",
    "\n",
    "print('t_ms   :   %-6.2e   yr'%t_ms)\n",
    "print('R_ms   :   %-6.2f     R_sun'%R_ms)\n",
    "print('t_KH   :   %-6.2e   yr'%t_KH)"
   ]
  },
  {
   "cell_type": "markdown",
   "metadata": {},
   "source": [
    "for $T_{c} = \\frac{\\mu C_{n}^{2}G}{N_{n}\\mathcal{R}}\\frac{M}{R_{0}}(1 - t/\\tau)$\n",
    "\n",
    "$R_t = R_{0}/(1-t/\\tau)$\n",
    "\n",
    "when $T_{c}$ comes to $10^{7}$\n",
    "\n",
    "we can get the time $t_{ms}$ for the star to contract to the main sequence is roughly $4.66\\times10^{6}yr$\n",
    "\n",
    "and $\\tau_{KH} \\approx \\tau = 8.55\\times10^{5}yr \\sim 20\\% t_{ms}$\n",
    "\n",
    "and the radius is roughly $0.62\\ R_{\\odot}$ when our hypothetical star reaches to the main sequence."
   ]
  },
  {
   "cell_type": "markdown",
   "metadata": {},
   "source": [
    "# 4. Rotational Velocities"
   ]
  },
  {
   "cell_type": "markdown",
   "metadata": {},
   "source": [
    "## (a)"
   ]
  },
  {
   "cell_type": "markdown",
   "metadata": {},
   "source": [
    "to avoid a significant departure from spherical symmetry\n",
    "\n",
    "the gravitational force to the surface of stars should be much larger than the centrifugal force\n",
    "\n",
    "which means $\\frac{GMm}{R^{2}} \\gg m\\omega^{2}R$\n",
    "\n",
    "namely $\\delta = \\frac{\\omega^{2}R^{3}}{GM} \\ll 1$"
   ]
  },
  {
   "cell_type": "markdown",
   "metadata": {},
   "source": [
    "## (b)"
   ]
  },
  {
   "cell_type": "code",
   "execution_count": 27,
   "metadata": {
    "scrolled": false
   },
   "outputs": [
    {
     "data": {
      "image/png": "[encoded data removed]",
      "text/plain": [
       "<matplotlib.figure.Figure at 0x9534f60>"
      ]
     },
     "metadata": {},
     "output_type": "display_data"
    }
   ],
   "source": [
    "from astropy.io import ascii\n",
    "import numpy as np\n",
    "import matplotlib.pyplot as plt\n",
    "\n",
    "G = 6.7*10**-8   #erg cm g^-2\n",
    "M_sun = 2*10**33 #g\n",
    "R_sun = 7*10**10 #cm\n",
    "\n",
    "data = ascii.read('rotationalvelocities.txt')\n",
    "\n",
    "delta = (data['Vrot(km/s)']*10**5)**2*data['R/Rsol']*R_sun/(G*data['M/Msol']*M_sun)\n",
    "\n",
    "x = np.arange(1,10,1)\n",
    "for i in range(0,len(delta)):\n",
    "#    print('%-5s %-8.5f'%(data['SpT'][i],delta[i]))\n",
    "    plt.scatter(x[i],delta[i],s=5,c='k',label='%-5s %-8.5f'%(data['SpT'][i],delta[i]))\n",
    "plt.xlabel('Spectral type of star',fontsize=15)\n",
    "plt.ylabel('$\\\\delta$',fontsize=15)\n",
    "plt.xticks(x,['O5','B2.5','B5','A0','A7','F0','F5','G0','G2'])\n",
    "#for i in range(0,len(delta)):\n",
    "#    print('%-5s %-8.5f'%(data['SpT'][i],delta[i]))\n",
    "plt.legend(fontsize='small')\n",
    "plt.show()"
   ]
  },
  {
   "cell_type": "markdown",
   "metadata": {},
   "source": [
    "above results show that the largest departure for spherical symmetry occurs in early A stars A0 type of which $\\delta \\sim 0.13653$"
   ]
  },
  {
   "cell_type": "code",
   "execution_count": null,
   "metadata": {
    "collapsed": true
   },
   "outputs": [],
   "source": []
  }
 ],
 "metadata": {
  "kernelspec": {
   "display_name": "Python 3",
   "language": "python",
   "name": "python3"
  },
  "language_info": {
   "codemirror_mode": {
    "name": "ipython",
    "version": 3
   },
   "file_extension": ".py",
   "mimetype": "text/x-python",
   "name": "python",
   "nbconvert_exporter": "python",
   "pygments_lexer": "ipython3",
   "version": "3.4.4"
  }
 },
 "nbformat": 4,
 "nbformat_minor": 2
}
