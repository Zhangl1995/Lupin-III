{
 "cells": [
  {
   "cell_type": "code",
   "execution_count": 6,
   "metadata": {
    "collapsed": true
   },
   "outputs": [],
   "source": [
    "import os\n",
    "import requests\n",
    "import urllib.request\n",
    "\n",
    "data_retrieve = 'http://irsa.ipac.caltech.edu/data/SPITZER/SINGS/galaxies/'\n",
    "data_mode = ['_DR5_SH_cube.fits','_DR5_LH_cube.fits','_DR5_SL1_cube.fits','_DR5_SL2_cube.fits','_DR5_LL1_cube.fits','_DR5_LL2_cube.fits']\n",
    "gal_list = open('nuc_region_gal.txt','r')\n",
    "gal_name = gal_list.readlines()\n",
    "\n",
    "for name in gal_name:\n",
    "    for mode in data_mode:\n",
    "        url_data = data_retrieve + name.strip() + '/IRS/' + name.strip() + mode.strip()\n",
    "        r = requests.get(url_data, stream=True)\n",
    "        if(r.status_code == 200):\n",
    "            dirs = 'Cube/'+name.strip()\n",
    "            if(os.path.exists(dirs) != True):\n",
    "                os.makedirs(dirs)\n",
    "            urllib.request.urlretrieve(url_data, 'Cube/'+name.strip()+'/'+name.strip()+mode.strip())\n",
    "\n",
    "gal_list.close()"
   ]
  },
  {
   "cell_type": "code",
   "execution_count": 4,
   "metadata": {
    "collapsed": true
   },
   "outputs": [],
   "source": [
    "import os\n",
    "import requests\n",
    "import urllib.request\n",
    "\n",
    "data_retrieve = 'http://irsa.ipac.caltech.edu/data/SPITZER/SINGS/galaxies/'\n",
    "data_mode = ['_DR5_SH_cube.fits','_DR5_LH_cube.fits','_DR5_SL1_cube.fits','_DR5_SL2_cube.fits','_DR5_LL1_cube.fits','_DR5_LL2_cube.fits']\n",
    "gal_list = open('exnuc_region_gal.txt','r')\n",
    "gal_name = gal_list.readlines()\n",
    "\n",
    "for name in gal_name:\n",
    "    for mode in data_mode:\n",
    "        url_data = data_retrieve + name.split('_')[0] + '/IRS/' + name.split('_')[0] +'_extranuc/'+ name.strip() + mode.strip()\n",
    "        r = requests.get(url_data, stream=True)\n",
    "        if(r.status_code == 200):\n",
    "            dirs = 'Cube/'+name.split('_')[0]\n",
    "            if(os.path.exists(dirs) != True):\n",
    "                os.makedirs(dirs)\n",
    "            urllib.request.urlretrieve(url_data, 'Cube/'+name.split('_')[0]+'/'+name.strip()+mode.strip())\n",
    "\n",
    "gal_list.close()"
   ]
  },
  {
   "cell_type": "code",
   "execution_count": null,
   "metadata": {
    "collapsed": true
   },
   "outputs": [],
   "source": []
  }
 ],
 "metadata": {
  "kernelspec": {
   "display_name": "Python 3",
   "language": "python",
   "name": "python3"
  },
  "language_info": {
   "codemirror_mode": {
    "name": "ipython",
    "version": 3
   },
   "file_extension": ".py",
   "mimetype": "text/x-python",
   "name": "python",
   "nbconvert_exporter": "python",
   "pygments_lexer": "ipython3",
   "version": "3.4.4"
  }
 },
 "nbformat": 4,
 "nbformat_minor": 2
}
