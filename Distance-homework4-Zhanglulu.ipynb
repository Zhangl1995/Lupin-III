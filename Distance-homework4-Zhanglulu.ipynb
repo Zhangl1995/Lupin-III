{
 "cells": [
  {
   "cell_type": "markdown",
   "metadata": {},
   "source": [
    "# QUESTION 1"
   ]
  },
  {
   "cell_type": "markdown",
   "metadata": {},
   "source": [
    "## a."
   ]
  },
  {
   "cell_type": "markdown",
   "metadata": {},
   "source": [
    "Giving that the neutrino flux is approximately $1.3\\times10^{14}\\ m^{-2}$\n",
    "\n",
    "and we can get the distance to SN 1987A is roughly 51.4 kpc.\n",
    "\n",
    "Consider the flux should be the result after time integral, so the total energy released via \n",
    "\n",
    "neutrinos during the SN explosion approximately equals is:\n",
    "\n",
    "$E \\approx 1.3\\times10^{14}\\times4\\pi(51400\\times3.1\\times10^{16})^{2}\\times4.2\\times1.6\\times10^{-6} = 2.8\\times10^{52}\\ erg$\n",
    "\n",
    "However, according to some reference, the final result is $\\sim 10^{53}\\ erg$ \n",
    "\n",
    "where the average energy per neutrino is given as approximately 4.2 MeV."
   ]
  },
  {
   "cell_type": "markdown",
   "metadata": {},
   "source": [
    "## b."
   ]
  },
  {
   "cell_type": "markdown",
   "metadata": {},
   "source": [
    "As he Crab Nebula is roughly spherical and expanding,\n",
    "\n",
    "the distance to the Crab Nebula can be deduced approximately as $\\frac{\\dot{R}}{\\dot{\\theta}}$\n",
    "\n",
    "which leads to a result as $\\frac{378.7\\ AU/yr}{0.23\\ arcsec/yr} = 1646.5 pc = 5433.45 ly$"
   ]
  },
  {
   "cell_type": "markdown",
   "metadata": {},
   "source": [
    "## c."
   ]
  },
  {
   "cell_type": "markdown",
   "metadata": {},
   "source": [
    "Give a constant expending rate $0.23\\ arcsec/yr$\n",
    "\n",
    "and the angular size of 5 ± 1.5 arcmin in diameter\n",
    "\n",
    "the year at which the light from the initial SN reached the Earth is $1304 \\pm 391$ yr before,\n",
    "\n",
    "which means AD $713 \\pm 391$ that agree within the date at which Chinese astronomers \n",
    "\n",
    "observed this supernova, AD 1054."
   ]
  },
  {
   "cell_type": "markdown",
   "metadata": {},
   "source": [
    "## d."
   ]
  },
  {
   "cell_type": "markdown",
   "metadata": {},
   "source": [
    "with $E_{v} = \\frac{1}{2}mv^{2}$\n",
    "\n",
    "and $E = Lt$\n",
    "\n",
    "for gas with mass of 20$M_{\\odot}$ and velocity of $1200km/s$\n",
    "\n",
    "=> $E_{v} = 2.88\\times10^{37}\\ J$\n",
    "\n",
    "and the time taht an O star of $10^{3}L_{M\\odot}$ has to shine to generate as much energy\n",
    "\n",
    "$t \\sim 7.58\\times10^{7} s \\sim 2.4 yr$"
   ]
  },
  {
   "cell_type": "markdown",
   "metadata": {},
   "source": [
    "## e."
   ]
  },
  {
   "cell_type": "markdown",
   "metadata": {},
   "source": [
    "Giving the characteristic age of a pulsar approximate P/(2r),the characteristic age \n",
    "\n",
    "of the Crab pulsar is roughly $1245$ years old that conresponding to AD 772. The \n",
    "\n",
    "result is much early than the observed date meaning that the effect of different \n",
    "\n",
    "speed of spin down doesn't be corrected well by the factor of 2."
   ]
  },
  {
   "cell_type": "markdown",
   "metadata": {},
   "source": [
    "# QUESTION 2"
   ]
  },
  {
   "cell_type": "markdown",
   "metadata": {},
   "source": [
    "for two images lensing phenomena, with small angle approximation that \n",
    "\n",
    "$\\frac{\\theta_{1}}{\\theta_{2}} = \\frac{\\sqrt{u^{2}+4}+4}{\\sqrt{u^{2}+4}-4}$, where $u = \\frac{\\theta_{S}}{\\theta_{E}}$ \n",
    "\n",
    "with $\\theta_{S}$ is the angular distance between the source and the lens, $\\theta_{E}$ is the Einstein radius.\n",
    "\n",
    "giving $\\frac{\\theta_{1}}{\\theta_{2}} = 2$\n",
    "\n",
    "we can get $\\theta_{S} = \\frac{\\sqrt{2}}{2}\\theta_{E} = \\sqrt{\\frac{2GMD_{LS}}{D_{L}D_{S}c^{2}}}$\n",
    "\n",
    "besides, for \n",
    "\n",
    "$D_{S}\\theta_{S} = D_{S}\\theta_{1} - D_{LS}\\alpha_{1}$\n",
    "\n",
    "$D_{S}\\theta_{S} = D_{LS}\\alpha_{2} - D_{S}\\theta_{1}$\n",
    "\n",
    "we can get $\\theta_{S} = \\frac{\\sqrt{2}}{2}\\sqrt{\\theta_{1}\\theta_{2}}$\n",
    "\n",
    "From the 1 year time delay between the variability behaviour of components 1 and 2,\n",
    "\n",
    "we have $D_{S}[\\sqrt{(1+\\theta_{1}^{2})}-\\sqrt{(1+\\theta_{2}^{2})}] = ct$\n",
    "\n",
    "=> $D_{S} \\approx 5.46\\times 10^{28} cm$\n",
    "\n",
    "if the mass of the lens is known, then the $D_{L}$ can be derived."
   ]
  },
  {
   "cell_type": "markdown",
   "metadata": {},
   "source": [
    "# QUESTION 3"
   ]
  },
  {
   "cell_type": "markdown",
   "metadata": {},
   "source": [
    "for Rayleigh-Jeans law $I(\\nu,T) \\approx \\frac{2\\pi k_{B}T\\nu^{2}}{c^{2}}$\n",
    "\n",
    "with Sunyaev-Zeldovich effect\n",
    "\n",
    "we have that for CMB photons scattered by hot electrons \n",
    "\n",
    "$\\Delta I = \\frac{2k^{3}T^{3}}{h^{2}c^{2}}\\frac{x^{4}e^{x}}{(e^{x}-1)^{2}}\\int \\frac{kT_{e}}{m_{e}c^{2}}f_{1}(x)n_{e}\\sigma_{T}dl$\n",
    "\n",
    "$x = h\\nu/kT$\n",
    "\n",
    "$f_{1}(x) = x(e^{x}+1)/(e^{x}-1)-4$\n",
    "\n",
    "$\\Delta I = \\frac{2k^{3}T^{3}}{h^{2}c^{2}}\\frac{x^{4}e^{x}}{(e^{x}-1)^{2}}\\frac{kT_{e}}{m_{e}c^{2}}f_{1}(x)\\tau$ \n",
    "\n",
    "where $\\tau \\approx n_{e}\\sigma_{T} R$\n",
    "\n",
    "giving that $\\frac{\\Delta I}{I} = 5\\times10^{-5}\\qquad kT_{e}=7keV\\qquad\\nu = 90MHz$\n",
    "\n",
    "=> $n_{e}R \\approx 8.49\\times 10^{21}\\ cm^{-2}$\n",
    "\n",
    "for X-ray emision by hot gas\n",
    "\n",
    "we have $S_{X} = \\frac{L_{X}}{4\\pi^{2} R^{2}}\\qquad$(here the redshift effects have been corrected)\n",
    "\n",
    "with the approximate exproximate expression for a thermal distribution of \n",
    "\n",
    "electrons given by Novikov and Thorne 1973 that:\n",
    "\n",
    "$\\frac{dW}{dVdt} = 1.4\\times10^{-27}T^{1/2}Z^{2}n_{e}n_{i}\\bar{g}_{B}(1+4.4\\times10^{-10}T)$\n",
    "\n",
    "which means $L_{X} = 1.4\\times10^{-27}T_{e}^{1/2}Z^{2}n_{e}n_{i}\\bar{g}_{B}(1+4.4\\times10^{-10}T_{e})\\times\\frac{4}{3}\\pi R^{3} = a(T_{X})n_{e}^{2}R^{3}$"
   ]
  },
  {
   "cell_type": "markdown",
   "metadata": {
    "collapsed": true
   },
   "source": [
    "giving that $S_{X} = 10^{-12}\\ erg\\ cm^{-2} s^{-1} arcmin^{-2} = 2.06\\times10^{-7}\\ erg\\ cm^{-2} s^{-1} rad^{-2}$\n",
    "\n",
    "=> $R \\approx \\frac{a(T_{X})(n_{e}R)^{2}}{4\\pi^{2}S_{X}} \\approx 1.01\\times10^{25}\\ cm$\n",
    "\n",
    "then we have $D_{A} = \\frac{R}{\\theta} \\approx 1.16\\times10^{28}\\ cm$"
   ]
  },
  {
   "cell_type": "code",
   "execution_count": 52,
   "metadata": {},
   "outputs": [
    {
     "name": "stdout",
     "output_type": "stream",
     "text": [
      "1.0899082568807339e-08 -1.99999998113\n",
      "8.488374055374808e+21\n"
     ]
    }
   ],
   "source": [
    "import numpy as np\n",
    "\n",
    "k = 1.4*10**-16             # erg K^-1\n",
    "h = 6.6*10**-27             # erg s\n",
    "c = 3*10**10                # cm s^-1\n",
    "m_e = 9.1*10**-28           # g\n",
    "sig_T = 6.65*10**-25        # cm^2\n",
    "T = 2.725                   # K\n",
    "T_e = 7000/(8.6*10**-5)    # K\n",
    "a_T = 9*10**-22            # erg s^-1 cm^3\n",
    "nu = 9*10*7                # Hz\n",
    "theta = 3                  # arcmin\n",
    "S_X = 10**-12              # erg cm^-2 s^-1 arcmin^-2\n",
    "x = h*nu/(k*T)\n",
    "f_x = x*(np.exp(x)+1)/(np.exp(x)-1)-4\n",
    "DelI_I = 5*10**-5\n",
    "\n",
    "print(x,f_x)\n",
    "n_R = -DelI_I*(h**2*c**2*(np.exp(x)-1)**2*m_e*c**2)/(2*k**3*T**3*x**4*np.exp(x)*k*T_e*f_x*sig_T)*(2*np.pi*k*T*nu**2)/c**2\n",
    "print(n_R)"
   ]
  },
  {
   "cell_type": "markdown",
   "metadata": {},
   "source": [
    "$\\Delta I = \\frac{2k^{3}T^{3}}{h^{2}c^{2}}\\frac{x^{4}e^{x}}{(e^{x}-1)^{2}}\\int \\frac{kT_{e}}{m_{e}c^{2}}f_{1}(x)n_{e}\\sigma_{T}dl$"
   ]
  },
  {
   "cell_type": "code",
   "execution_count": 59,
   "metadata": {},
   "outputs": [
    {
     "name": "stdout",
     "output_type": "stream",
     "text": [
      "1.009403299879419e+25\n",
      "1.1602336780223207e+28\n"
     ]
    }
   ],
   "source": [
    "g_B = 1.2\n",
    "co = 1.4*10**-27*T_e**0.5*g_B*(1+4.4*10**-10*T_e)*n_R**2\n",
    "l = co/(3*np.pi*S_X*3600/0.0174**2)\n",
    "print(l)\n",
    "print(l/(theta/60*0.0174))"
   ]
  },
  {
   "cell_type": "code",
   "execution_count": 26,
   "metadata": {},
   "outputs": [
    {
     "name": "stdout",
     "output_type": "stream",
     "text": [
      "5.1603797694352066e+33\n"
     ]
    }
   ],
   "source": [
    "l = a_T*n_l**2/(4*np.pi*S_X)\n",
    "print(l)"
   ]
  },
  {
   "cell_type": "code",
   "execution_count": 49,
   "metadata": {},
   "outputs": [
    {
     "name": "stdout",
     "output_type": "stream",
     "text": [
      "2.6158565435268844e+24\n"
     ]
    }
   ],
   "source": [
    "l = (co*4*np.pi/n_l**2/3)*25*10**-10/(4*np.pi**2*sig_T**2*S_X)\n",
    "print(l/3600)"
   ]
  },
  {
   "cell_type": "code",
   "execution_count": 50,
   "metadata": {},
   "outputs": [
    {
     "name": "stdout",
     "output_type": "stream",
     "text": [
      "5.231713087053768e+25\n"
     ]
    }
   ],
   "source": [
    "da = l/(theta/60)/3600\n",
    "print(da)"
   ]
  },
  {
   "cell_type": "code",
   "execution_count": 45,
   "metadata": {},
   "outputs": [
    {
     "name": "stdout",
     "output_type": "stream",
     "text": [
      "6.576267076485407e-23\n"
     ]
    }
   ],
   "source": [
    "print(co*4*np.pi/n_l**2/3)"
   ]
  },
  {
   "cell_type": "code",
   "execution_count": null,
   "metadata": {
    "collapsed": true
   },
   "outputs": [],
   "source": []
  }
 ],
 "metadata": {
  "kernelspec": {
   "display_name": "Python 3",
   "language": "python",
   "name": "python3"
  },
  "language_info": {
   "codemirror_mode": {
    "name": "ipython",
    "version": 3
   },
   "file_extension": ".py",
   "mimetype": "text/x-python",
   "name": "python",
   "nbconvert_exporter": "python",
   "pygments_lexer": "ipython3",
   "version": "3.4.4"
  }
 },
 "nbformat": 4,
 "nbformat_minor": 2
}
