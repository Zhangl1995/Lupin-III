{
 "cells": [
  {
   "cell_type": "markdown",
   "metadata": {},
   "source": [
    "# Homework 3 -Zhanglulu -1701110221"
   ]
  },
  {
   "cell_type": "markdown",
   "metadata": {},
   "source": [
    "## 1.Stellar Structures II"
   ]
  },
  {
   "cell_type": "markdown",
   "metadata": {},
   "source": [
    "(a)\n",
    "\n",
    "$M_{1}(r) = \\rho_{c,1}\\frac{4}{3}\\pi r^{3}$\n",
    "\n",
    "$M_{2}(r) = \\rho_{c,2}(\\frac{4}{3}\\pi r^{3} - \\frac{\\pi r^{4}}{R_{2}}) = \\rho_{c,2}\n",
    "\\pi r^3(4/3-r/R)$"
   ]
  },
  {
   "cell_type": "markdown",
   "metadata": {},
   "source": [
    "## 2. Equation of State"
   ]
  },
  {
   "cell_type": "markdown",
   "metadata": {},
   "source": [
    "### (a)"
   ]
  },
  {
   "cell_type": "markdown",
   "metadata": {
    "collapsed": true
   },
   "source": [
    "Firstly, LTE enables the caculation of all thermodynamic properties of stellar gas in terms of the local values of temperature, density and composition, as they change from the centre to the surface, and then the EOS of microscopic properties of stellar matter can be described."
   ]
  },
  {
   "cell_type": "markdown",
   "metadata": {},
   "source": [
    "we can get \n",
    "\n",
    "$P = P(\\rho,T,X_{i})$\n",
    "\n",
    "$n = \\int_{0}^{\\infty}n(p)dp$\n",
    "\n",
    "$U = \\int_{0}^{\\infty}\\epsilon_{p}dp = n<\\epsilon_{p}>$\n",
    "\n",
    "$P = \\frac{1}{3}\\int_{0}^{\\infty}pv_{p}n(p)dp = \\frac{1}{3}n<pv_{p}>$"
   ]
  },
  {
   "cell_type": "markdown",
   "metadata": {},
   "source": [
    "for non-relativistic condition\n",
    "\n",
    "$p \\ll mc,\\ \\epsilon_{p} = \\epsilon - mc^{2} = \\frac{1}{2}p^{2}/m,\\ v = p/m$\n",
    "\n",
    "$<pv> = <P^{2}/m> = 2<\\epsilon_{p}>$\n",
    "\n",
    "$P = \\frac{2}{3}U$"
   ]
  },
  {
   "cell_type": "markdown",
   "metadata": {},
   "source": [
    "for relativistic condition\n",
    "\n",
    "$p \\gg mc,\\ \\epsilon_{p} = pc,\\ v = c$\n",
    "\n",
    "$<pv> = <pc> = <\\epsilon_{p}>$\n",
    "\n",
    "$P = \\frac{1}{3}U$"
   ]
  },
  {
   "cell_type": "markdown",
   "metadata": {},
   "source": [
    "#### for ideal gas"
   ]
  },
  {
   "cell_type": "markdown",
   "metadata": {},
   "source": [
    "the momentum distribution n(p) in LTE is given by the Maxwell-Boltzmann distribution.\n",
    "\n",
    "$n(p)dp = \\frac{n}{(2\\pi mkT)^{3/2}}e^{-p^{2}/2mkT}4\\pi p^{2}dp$\n",
    "\n",
    "$P = \\frac{1}{3}\\frac{n}{(2\\pi mkT)^{3/2}}\\int_{0}^{\\infty}\\frac{p^{2}}{m}e^{-p^{2}/2mkT}4\\pi p^{2}dp$\n",
    "\n",
    "just to get $P = nkT$"
   ]
  },
  {
   "cell_type": "markdown",
   "metadata": {},
   "source": [
    "for ionized hydrogen\n",
    "\n",
    "$P = P_{H^{+}} + P_{e} = 2\\frac{\\rho}{m_{u}}kT$ \n",
    "\n",
    "(for mixed gases with element i of $X_{i}$ fraction with mass $m_{i}=A_{i}m_{u}$ and charge $Z_{i}e$\n",
    "\n",
    "$n_{ion} = \\sum\\limits_{i}X_{i}\\frac{\\rho}{A_{i}m_{u}} \\equiv \\frac{1}{\\mu_{ion}}\\frac{\\rho}{m_{u}}$\n",
    "$\\qquad n_{e} = \\sum\\limits_{i}Z_{i}n_{i} = \\sum\\limits_{i}X_{i}\\frac{\\rho}{(A_{i}/Z_{i})m_{u}} \\equiv \\frac{1}{\\mu_{e}}\\frac{\\rho}{m_{u}}$)"
   ]
  },
  {
   "cell_type": "markdown",
   "metadata": {},
   "source": [
    "#### for electron degeneracy (complete degeneracy approach)"
   ]
  },
  {
   "cell_type": "markdown",
   "metadata": {},
   "source": [
    "with quantum-mechanical description of the gas($\\Delta x\\Delta p \\geq h$)\n",
    "\n",
    "then the number of quantum states in a spatial volume V and with momenta p $\\in$ (p,p+dp) is give by:\n",
    "\n",
    "$g(p)dp = g_{s}\\frac{V}{h^{3}}4\\pi p^{2}dp$$\\qquad (g_{s}=2$ fro electron and photon)"
   ]
  },
  {
   "cell_type": "markdown",
   "metadata": {},
   "source": [
    "for fermions(e.g.electrons or nucleons)\n",
    "\n",
    "the fraction of states with energy $\\epsilon_{p}$ that will be occupied at temperature T is given by Fermi-Dirac distribution\n",
    "\n",
    "$f_{FD}(\\epsilon_{p}) = \\frac{1}{e^{(\\epsilon_{p}-\\mu)/kT}+1}$\n",
    "\n",
    "for bosions(e.g.photos)\n",
    "\n",
    "the fraction of states with energy $\\epsilon_{p}$ that will be occupied at temperature T is given by Bose-Einstein distribution\n",
    "\n",
    "$f_{BE}(\\epsilon_{p}) = \\frac{1}{e^{(\\epsilon_{p}-\\mu)/kT}-1}$"
   ]
  },
  {
   "cell_type": "markdown",
   "metadata": {},
   "source": [
    "for complete degeneracy approach of wlectron\n",
    "\n",
    "$n_{e}(p) = \\frac{8\\pi p^{2}}{h^{3}}\\qquad$   for $p \\leq p_{F}$\n",
    "\n",
    "$n_{e}(p) = 0\\qquad\\ \\ \\ \\ \\ \\ $for $p > p_{F}$\n",
    "\n",
    "($p_{F} = h(\\frac{3}{8\\pi}n_{e})^{1/3}$ that determined by $\\int_{0}^{p_{F}}n_{e}(p) = n_{e}$)"
   ]
  },
  {
   "cell_type": "markdown",
   "metadata": {},
   "source": [
    "Then for non-relativistic condition, $v = p/m$\n",
    "\n",
    "$P_{e} = \\frac{1}{3}\\int_{0}^{p_{F}}\\frac{8\\pi p^{4}}{h^{3}m_{e}}dp = \\frac{8\\pi}{15h^{3}m_{e}}p_{F}^{5} = \\frac{h^{2}}{20m_{e}}(\\frac{3}{\\pi})^{2/3}n_{e}^{5/3} = \\frac{h^{2}}{20m_{e}}(\\frac{3}{\\pi})^{2/3}(\\frac{\\rho}{m_{u}})^{5/3}$\n",
    "\n",
    "take $P_{e} = K_{NR}\\rho^{5/3}\\qquad K_{NR}=1.0036\\times 10^{13}[cgs]$\n",
    "\n",
    "for relativistic condition, $v = c$\n",
    "\n",
    "$P_{e} = \\frac{1}{3}\\int_{0}^{p_{F}}\\frac{8\\pi cp^{3}}{h^{3}}dp = \\frac{8\\pi c}{12h^{3}}p_{F}^{4} = \\frac{hc}{8}(\\frac{3}{\\pi})^{1/3}n_{e}^{4/3} = \\frac{hc}{8}(\\frac{3}{\\pi})^{1/3}(\\frac{\\rho}{m_{u}})^{4/3}$\n",
    "\n",
    "take $P_{e} = K_{ER}\\rho^{4/3}\\qquad K_{ER}=1.2435\\times 10^{15}[cgs]$"
   ]
  },
  {
   "cell_type": "markdown",
   "metadata": {},
   "source": [
    "#### for radiation"
   ]
  },
  {
   "cell_type": "markdown",
   "metadata": {},
   "source": [
    "for the distribution if photos in coincide with  Bose-Einstein distribution and its chemical energy equal 0,hence:\n",
    "\n",
    "$n(p)dp = \\frac{2}{h^{3}}\\frac{1}{e^{\\epsilon_{p}/kT}-1}4\\pi p^{2}dp$\n",
    "\n",
    "then\n",
    "\n",
    "$P_{ph} = \\frac{1}{3}\\int_{0}^{\\infty}pcn(p)dp = \\frac{1}{3}aT^{4}\\qquad a=\\frac{8\\pi^{5}k^{4}}{15h^{3}c^{3}}=7.56\\times10^{-15}ergcm^{-3}K^{-4}$"
   ]
  },
  {
   "cell_type": "markdown",
   "metadata": {},
   "source": [
    "#### for crystallization"
   ]
  },
  {
   "cell_type": "markdown",
   "metadata": {},
   "source": [
    "considering the effect of electrostatic or Coulomb interactions between the ions and electrons in the gas\n",
    "\n",
    "Coulombenergy to kinetic energy is defined as \n",
    "\n",
    "$\\Gamma_{C} = \\frac{Z^{2}e^{2}}{dkT} = \\frac{Z^{2}e^{2}}{kT}(\\frac{4\\pi\\rho}{3Am_{u}})^{1/3} = 2.275\\times10^{5}\\frac{\\rho^{1/3}}{T}$\n",
    "\n",
    "($d \\approx(\\frac{4\\pi}{3}n)^{-1/3}\\qquad n = \\rho/(Am_{u})\\qquad$for Hydrogen, Z=1, A =1)"
   ]
  },
  {
   "cell_type": "markdown",
   "metadata": {},
   "source": [
    "to get the contours in the $logT-log\\rho$ plane\n",
    "\n",
    "i)make $P_{gas,ideal} = P_{e,NR/ER}$ and get $T = 6.05\\times10^{4}\\rho^{2/3}$ for non-relativistic\n",
    "\n",
    "and $T = 7.5\\times10^{6}\\rho^{1/3}$ for extremely-relativistic (cgs units)\n",
    "\n",
    "ii)make $P_{gas} = P_{rad}$ and get $T = 4.0\\times10^{7}\\rho^{1/3}$(cgs units)\n",
    "\n",
    "iii)$P_{e,NR} = P_{e,ER}$ and get $\\rho = 9.7\\times10^{5}g/cm^{3}$(cgs units)\n",
    "\n",
    "iv)make $\\Gamma_{C} > 170$ and get $T \\leq 1.338\\times10^{3}\\rho^{1/3}$"
   ]
  },
  {
   "cell_type": "code",
   "execution_count": 59,
   "metadata": {},
   "outputs": [
    {
     "data": {
      "image/png": "[encoded data removed]",
      "text/plain": [
       "<matplotlib.figure.Figure at 0x99bd6a0>"
      ]
     },
     "metadata": {},
     "output_type": "display_data"
    }
   ],
   "source": [
    "import numpy as np\n",
    "import matplotlib.pyplot as plt\n",
    "\n",
    "logrho = np.arange(-10,10.1,0.10)\n",
    "\n",
    "logT_NR = np.log10(6.05*10**4*(10**logrho[:161])**(2/3))\n",
    "logT_ER = np.log10(7.5*10**6*(10**logrho[160:])**(1/3))\n",
    "logT_Rad = np.log10(4*10**7*(10**logrho)**(1/3))\n",
    "plt.axvline(5.98677,ymin=0.0, ymax=(logT_ER[0]-3)/9, color = 'k',label='crystallization boundary')\n",
    "logT_GammaC = np.log10(1.338*10**3*(10**logrho)**(1/3))\n",
    "\n",
    "plt.plot(logrho[:161],logT_NR,label='ideal gas - NR degeneracy')\n",
    "plt.plot(logrho[160:],logT_ER,label='ideal gas - ER degeneracy')\n",
    "plt.plot(logrho,logT_Rad,label='ideal gas - radiation')\n",
    "plt.plot(logrho,logT_GammaC,label='NR - ER')\n",
    "plt.ylim(3,)\n",
    "plt.xlabel('log$\\\\rho$ ($g/cm^{3}$)',size=10)\n",
    "plt.ylabel('log T  (K)',size=10)\n",
    "plt.text(-4.5,8.0,'radiation')\n",
    "plt.text(-5,4.8,'ideal gas')\n",
    "plt.text(1,4.5,'non-relativistic\\ndegeneracy')\n",
    "plt.text(6.4,7.0,'extremely\\nrelativistic\\ndegeneracy')\n",
    "plt.text(4,3.5,'crystallization\\nof the ions')\n",
    "plt.legend(loc=2,fontsize = 'small')\n",
    "plt.show()"
   ]
  },
  {
   "cell_type": "markdown",
   "metadata": {},
   "source": [
    "### (b)"
   ]
  },
  {
   "cell_type": "markdown",
   "metadata": {},
   "source": [
    "As a main sequence star, the Sun should locate the ideal gas region. For white dwarfs, pressure in them is dominated by degeneracy electrons, so they should locate the degeneracy region, and the low mass one may not extremely degeneracy may locate the non-relativistic degeneracy region while the high mass one should locate the extremely relativistic degeneracy region."
   ]
  },
  {
   "cell_type": "markdown",
   "metadata": {},
   "source": [
    "## 3.The Chandrasekhar Mass"
   ]
  },
  {
   "cell_type": "markdown",
   "metadata": {},
   "source": [
    "### (a)"
   ]
  },
  {
   "cell_type": "markdown",
   "metadata": {},
   "source": [
    "according to $polytropic\\ relation$\n",
    "\n",
    "$P = K\\rho^{\\gamma}$\n",
    "\n",
    "with the equation of hydrostatic equilibrium\n",
    "\n",
    "$\\frac{dP}{dr} = -\\frac{Gm}{r^{2}}\\rho$\n",
    "\n",
    "we can get \n",
    "\n",
    "$\\frac{1}{\\rho r^{2}}\\frac{d}{dr}(r^{2}\\rho^{\\gamma-2}\\frac{d\\rho}{dp}) = -\\frac{4\\pi G}{K\\gamma}$"
   ]
  },
  {
   "cell_type": "markdown",
   "metadata": {},
   "source": [
    "replace $\\gamma$ by polytropic index n that defined as $n = \\frac{1}{\\gamma-1}$\n",
    "\n",
    "and define\n",
    "\n",
    "$\\rho =\\rho_{c}w^{n}$\n",
    "\n",
    "$r = \\alpha z\\qquad$  with $\\alpha = (\\frac{n+1}{4\\pi G}K\\rho_{c}^{(1-n)/n})^{1/2}$\n",
    "\n",
    "meanwhile we have two boundary conditions that $\\rho(0) = 0$ and $(\\frac{d\\rho}{dr})_{r=0} = 0$"
   ]
  },
  {
   "cell_type": "markdown",
   "metadata": {},
   "source": [
    "and then we will get the Lane-Emden equation\n",
    "\n",
    "$\\frac{1}{z^{2}}\\frac{d}{dz}(z^{2}\\frac{dw}{dz}) + w^{n} = 0$"
   ]
  },
  {
   "cell_type": "markdown",
   "metadata": {},
   "source": [
    "from above equations we can get further solutions that\n",
    "\n",
    "the radius of a polytropic model given by\n",
    "\n",
    "$R = \\alpha z_{n} = (\\frac{n+1}{4\\pi G}K)^{1/2}\\rho_{c}^{(1-n)/2n}z_{n}$\n",
    "\n",
    "the mass m(z) interior to z is\n",
    "\n",
    "$m(z) = \\int_{0}^{\\alpha z}4\\pi r^2\\rho dr = \\int_{0}^{z}4\\pi\\alpha^{2}z^{2}\\rho_{c}w^{n}\\alpha dz = -4\\pi\\alpha^{3}\\rho_{c}z^{2}\\frac{dw}{dz}\\qquad$ for $w^{n} = -\\frac{1}{z^{2}}\\frac{d}{dz}(z^{2}\\frac{dw}{dz})$\n",
    "\n",
    "Hence the total mass of of a polytropic model is\n",
    "\n",
    "$M = 4\\pi\\alpha^{3}\\rho_{c}\\Theta_{n} = 4\\pi[\\frac{n+1}{4\\pi G}K]^{3/2}\\rho_{c}^{(3-n)/2n}\\Theta_{n}\\qquad$ where $\\Theta_{n}=(-z^{2}\\frac{dw}{dz})_{z=z_{n}}$"
   ]
  },
  {
   "cell_type": "markdown",
   "metadata": {},
   "source": [
    "by eliminating $\\rho_{c}$ in R and M, a relation between M, R and K can be found\n",
    "\n",
    "$K = N_{n}GM^{(n-1)/n}R^{(3-n)/n}\\qquad$ where $N_{n} = \\frac{(4\\pi)^{1/n}}{n+1}\\Theta_{n}^{(1-n)/n}z_{n}^{(n-3)/n}$"
   ]
  },
  {
   "cell_type": "markdown",
   "metadata": {},
   "source": [
    "for  $P = K\\rho^{\\gamma} = K\\rho^{(n+1)/n}$\n",
    "\n",
    "in massive white dwarfs, electrons will become relativistic as in such a compact structure that they are pushed up to higher momenta by Pauli exclusion principle, and the degree of relativity increases with density. Until at certain mass all the electrons become extremely relativistic.\n",
    "\n",
    "we have known that $P_{e} = K_{ER}(\\frac{\\rho}{\\mu_{e}})^{4/3}$ which means a polytropic relation with n = 3, namely $M = 4\\pi\\Theta_{3}(\\frac{K}{\\pi G})^{3/2}$ which corresponds to the maxinum possible mass for a white dwarf\n",
    "\n",
    "$M_{Ch} = 5.85\\mu_{e}^{-2}M_{\\bigodot}\\qquad$ details in Chandrasekhar, S. (1935)https://doi.org/10.1093/mnras/95.3.207"
   ]
  },
  {
   "cell_type": "markdown",
   "metadata": {},
   "source": [
    "### (b)"
   ]
  },
  {
   "cell_type": "markdown",
   "metadata": {},
   "source": [
    "for only He case, $\\mu_{e} = 4/2 = 2$, so $M_{Ch} \\approx 1.4625M_{\\bigodot} $"
   ]
  },
  {
   "cell_type": "markdown",
   "metadata": {},
   "source": [
    "for 75% C and 25% O,$\\mu_{e} = 1/(\\frac{0.75}{12/6}+\\frac{0.25}{16/8}) = 2$ and $M_{Ch} \\approx 1.4625M_{\\bigodot} $"
   ]
  },
  {
   "cell_type": "markdown",
   "metadata": {},
   "source": [
    "## 4. Energy generation in the Sun"
   ]
  },
  {
   "cell_type": "markdown",
   "metadata": {},
   "source": [
    "energy generation in the Sun through $4H \\to {}_{2}^{4}He + 2e^{+} + 2v_{e} + 2\\gamma$ means that all the energy generated through pp1 chain reaction.\n",
    "\n",
    "with the information in chapter 6 of O.R. Pols's texybook."
   ]
  },
  {
   "cell_type": "markdown",
   "metadata": {},
   "source": [
    "### (a)"
   ]
  },
  {
   "cell_type": "markdown",
   "metadata": {},
   "source": [
    "$R_{react} = \\frac{L_{\\bigodot}}{E_{fusion}} = \\frac{3.8\\times10^{33}erg/s}{26.20\\times10^{6}eV\\times1.6\\times10^{-12}erg/eV} = 9.06\\times10^{37}\\ s^{-1}$"
   ]
  },
  {
   "cell_type": "markdown",
   "metadata": {},
   "source": [
    "### (b)"
   ]
  },
  {
   "cell_type": "markdown",
   "metadata": {},
   "source": [
    "$m_{He} = R_{react}\\times4.002603\\times931.494MeV = 3.38\\times10^{41}MeV$"
   ]
  },
  {
   "cell_type": "markdown",
   "metadata": {},
   "source": [
    "### (c)"
   ]
  },
  {
   "cell_type": "markdown",
   "metadata": {},
   "source": [
    "for the ernegy release with neutrino is 0.265MeV in pp1 chain reaction, and ignore the energy of kinetic energy of particles, the energy of photos produced in the Sun every second approximate to：\n",
    "\n",
    "$E_{\\gamma} = R_{react}\\times((M_{He}-4M_{H})\\times m_{u}c^2-2\\times0.265Mev) = 23.73\\times10^{39}MeV$"
   ]
  },
  {
   "cell_type": "markdown",
   "metadata": {},
   "source": [
    "### (d)"
   ]
  },
  {
   "cell_type": "markdown",
   "metadata": {},
   "source": [
    "$flux_{v_{e}} = \\frac{2\\times R_{react}}{\\frac{4}{3}\\pi (1AU)^{3}} = 1.28\\times10^{-2}cm^{-2}s^{-1}$"
   ]
  },
  {
   "cell_type": "markdown",
   "metadata": {},
   "source": [
    "## 5. Order of Magnitude question"
   ]
  },
  {
   "cell_type": "markdown",
   "metadata": {},
   "source": [
    "consider that if we know the scale of the armored vans is $length\\times width\\times height$ and the size of a dozen  banknotes, then we can make a estimation of the amount of banknotes that the armored vans can accommodate according to their volume."
   ]
  },
  {
   "cell_type": "code",
   "execution_count": 13,
   "metadata": {
    "scrolled": true
   },
   "outputs": [
    {
     "name": "stdout",
     "output_type": "stream",
     "text": [
      "5543914243.78 \n",
      " 2.00015357184\n"
     ]
    }
   ],
   "source": [
    "import numpy as np\n",
    "\n",
    "time1 = np.arcsinh(0.5400)*10**12*3.1/(3.1537*91.61427)\n",
    "#time = solve(0.753947*sinh(t**10*3.1537*91.61427/(10**12*3.1))**(2/3)-0.5,t)\n",
    "a2 = 0.753947*np.sinh((time1+10)*3.1537*91.61427/(10**12*3.1))**(2/3)\n",
    "print(time1,'\\n',1/a2)"
   ]
  },
  {
   "cell_type": "code",
   "execution_count": 4,
   "metadata": {},
   "outputs": [
    {
     "data": {
      "image/png": "[encoded data removed]",
      "text/plain": [
       "<matplotlib.figure.Figure at 0x6329c88>"
      ]
     },
     "metadata": {},
     "output_type": "display_data"
    }
   ],
   "source": [
    "import numpy as np\n",
    "import matplotlib.pyplot as plt\n",
    "\n",
    "time = np.arange(0,2.5*10**10,10**9)\n",
    "a = 0.753947*np.sinh(time*3.1537*91.61427/(10**12*3.1))**(2/3)\n",
    "plt.plot(time,a)\n",
    "plt.show()"
   ]
  },
  {
   "cell_type": "code",
   "execution_count": null,
   "metadata": {
    "collapsed": true
   },
   "outputs": [],
   "source": []
  }
 ],
 "metadata": {
  "kernelspec": {
   "display_name": "Python 3",
   "language": "python",
   "name": "python3"
  },
  "language_info": {
   "codemirror_mode": {
    "name": "ipython",
    "version": 3
   },
   "file_extension": ".py",
   "mimetype": "text/x-python",
   "name": "python",
   "nbconvert_exporter": "python",
   "pygments_lexer": "ipython3",
   "version": "3.4.4"
  }
 },
 "nbformat": 4,
 "nbformat_minor": 2
}
