{
 "cells": [
  {
   "cell_type": "markdown",
   "metadata": {},
   "source": [
    "# 1. Tides"
   ]
  },
  {
   "cell_type": "markdown",
   "metadata": {},
   "source": [
    "## (a)"
   ]
  },
  {
   "cell_type": "markdown",
   "metadata": {},
   "source": [
    "with $\\vec{L} = \\vec{r}\\times m\\vec{v}$\n",
    "\n",
    "for a uniform spherical body\n",
    "\n",
    "$L_{rotate} = \\frac{m}{\\frac{4}{3}\\pi r^{3}}\\int_{0}^{r}r2\\pi r2\\sqrt{r^2-l^2}\\omega rdl$\n",
    "\n",
    "$\\qquad = \\frac{2}{5}\\omega_{rotate} mr_{rotate}^{2}$\n",
    "\n",
    "for circular orbit \n",
    "\n",
    "$L_{orbit} = \\omega_{orbit} mr_{orbit}^{2}$\n"
   ]
  },
  {
   "cell_type": "markdown",
   "metadata": {},
   "source": [
    "so we can get for earth moon system\n",
    "\n",
    "$L_{tot} = L_{or}^{E} + L_{or}^{M} + L_{ro}^{E} + L_{ro}^{M}$\n",
    "\n",
    "$\\ \\ \\ \\ \\ \\  = \\omega_{or}^{E}m_{E}(r_{or}^{E})^{2} + \\omega_{or}^{M}m_{M}(r_{or}^{M})^{2}\n",
    "                 + \\frac{2}{5}\\omega_{ro}^{E}m_{E}r_{E}^{2} + \\frac{2}{5}\\omega_{ro}^{M}m_{M}r_{M}^{2}$\n",
    "                 \n",
    "with $ P_{or}^{E} = 27.3\\ d\\ \\ \\  P_{or}^{M} = 27.3\\ d\\ \\ \\  P_{ro}^{E} = 1\\ d\\ \\ \\  P_{ro}^{M} = 27.3\\ $\n",
    "\n",
    "$\\qquad m_{E} = 6.0\\times10^{27}g\\ \\ \\  r_{E} = 6.4\\times10^{8}cm\\ \\ \\  m_{M} = 7.4\\times10^{25}g\\ \\ \\  r_{M} = 1.7\\times10^{8}cm$\n",
    "\n",
    "=>$L_{or}^{E} \\approx 3.74\\times10^{39}\\ g\\ cm^{2}\\ s^{-1}$\n",
    "\n",
    "$\\ \\ \\ L_{ro}^{E} \\approx 7.14\\times10^{40}\\ g\\ cm^{2}\\ s^{-1}$\n",
    "\n",
    "$\\ \\ \\ L_{or}^{M} \\approx 2.77\\times10^{42}\\ g\\ cm^{2}\\ s^{-1}$\n",
    "\n",
    "$\\ \\ \\ L_{ro}^{M} \\approx 2.27\\times10^{36}\\ g\\ cm^{2}\\ s^{-1}$\n",
    "\n",
    "showing that the orbital angular momentum of the Earth and the spin angular momentum of the Moon\n",
    "\n",
    "are small compared to the other terms."
   ]
  },
  {
   "cell_type": "markdown",
   "metadata": {},
   "source": [
    "## (b)"
   ]
  },
  {
   "cell_type": "markdown",
   "metadata": {},
   "source": [
    "with $\\frac{Gm_{E}m_{M}}{r} = m_{E}\\omega_{or}^{2}r_{or}^{E} = m_{M}\\omega_{or}^{2}r_{or}^{M}\\qquad r_{or}^{E}+r_{or}^{M} = r$\n",
    "\n",
    "=>$r_{or}^{E} = \\frac{m_{M}}{m_{E}+m_{M}}r$\n",
    "\n",
    "$\\ \\ \\ r_{or}^{M} = \\frac{m_{E}}{m_{E}+m_{M}}r$\n",
    "\n",
    "$\\ \\ \\ \\omega_{or} = \\sqrt{\\frac{G(m_{E}+m_{M})}{r^{3}}}$"
   ]
  },
  {
   "cell_type": "markdown",
   "metadata": {},
   "source": [
    "with the spin anglar momentum of the Moon is much smaller than other terms\n",
    "\n",
    "considering the whole anglar momentum of the Earth-Moon system\n",
    "\n",
    "$L = \\omega_{or}^{E}m_{E}(r_{or}^{E})^{2} + \\omega_{or}^{M}m_{M}(r_{or}^{M})^{2}\n",
    "                 + \\frac{2}{5}\\omega_{ro}^{E}m_{E}r_{E}^{2}$\n",
    "                 \n",
    "$\\ \\ \\ = \\frac{2}{5}m_{E}r_{E}^{2}\\omega_{ro}^{E} + m_{E}m_{M}\\sqrt{\\frac{Gr}{m_{E}+m_{M}}}$\n",
    "\n",
    "with the conservation of angular momentum\n",
    "\n",
    "$\\frac{dL}{dt} = \\frac{2}{5}m_{E}r_{E}^{2}\\dot{\\omega}_{ro}^{E} + \\frac{1}{2}m_{E}m_{M}\\sqrt{\\frac{G}{r(m_{E}+m_{M})}}\\dot{r} = 0$\n",
    "\n",
    "which gives that\n",
    "\n",
    "$\\dot{\\omega}_{ro}^{E} = -\\frac{5}{4}\\frac{m_{M}}{r_{E}^{2}}\\sqrt{\\frac{G}{r(m_{E}+m_{M})}}\\dot{r}$\n",
    "\n",
    "for $\\dot{r}$ is small, we can regard r as a constant during a short period\n",
    "\n",
    "so that the Earth is slowing down its rotation at a rate proportional to the\n",
    "\n",
    "increase in the orbital radius of the Moon"
   ]
  },
  {
   "cell_type": "markdown",
   "metadata": {},
   "source": [
    "## (c)"
   ]
  },
  {
   "cell_type": "markdown",
   "metadata": {},
   "source": [
    "give $\\dot{r} = 3.8\\ cm\\ yr^{-1}$\n",
    "\n",
    "=>$\\dot{\\omega}_{E} = 1.46\\times10^{-14}\\ s^{-1}yr^{-1}$\n",
    "\n",
    "thus $\\frac{\\Delta\\omega_{E}}{\\omega_{E}} \\sim \\frac{\\Delta r}{r} \\sim 10^{-10}$"
   ]
  },
  {
   "cell_type": "markdown",
   "metadata": {},
   "source": [
    "# 2. Neutron Star Structure"
   ]
  },
  {
   "cell_type": "markdown",
   "metadata": {},
   "source": [
    "$\\frac{dM}{dr} = 4\\pi r^{2}\\rho(1+e/c^{2})$\n",
    "\n",
    "$\\frac{dP}{dr} = -\\frac{G}{r^{2}}[\\rho(1+e/c^{2}) + P/c^{2}]\\frac{M + 4\\pi r^{3}P/c^{2}}{1 - 2GM/(rc^{2})}$"
   ]
  },
  {
   "cell_type": "markdown",
   "metadata": {},
   "source": [
    "$P = K\\rho^{\\gamma}$\n",
    "\n",
    "$e = \\frac{P}{\\rho}\\frac{1}{\\gamma - 1}$\n",
    "\n",
    "$M(r=0) = 0$\n",
    "\n",
    "$P(r=0) = K\\rho_{c}^{\\gamma}$"
   ]
  },
  {
   "cell_type": "markdown",
   "metadata": {},
   "source": [
    "### numerical integration by a four-point Runge-Kutta sequence"
   ]
  },
  {
   "cell_type": "code",
   "execution_count": 137,
   "metadata": {
    "collapsed": true
   },
   "outputs": [],
   "source": [
    "import numpy as np\n",
    "import matplotlib.pyplot as plt\n",
    "\n",
    "\n",
    "def dm_dr(P,r):\n",
    "    K = 1.982*10**-6   #in cgs units\n",
    "    gam = 2.75\n",
    "    G = 6.7*10**-8     #erg cm g^-2\n",
    "    c = 3*10**10       #cm s^-1\n",
    "    rho = (P/K)**(1/gam)\n",
    "    e = P/(rho*(gam-1))\n",
    "    dm_r = 4*np.pi*r**2*rho*(1+e/c**2)\n",
    "    return dm_r\n",
    "def dP_dr(P,M,r):\n",
    "    K = 1.982*10**-6   #in cgs units\n",
    "    gam = 2.75\n",
    "    G = 6.7*10**-8     #erg cm g^-2\n",
    "    c = 3*10**10       #cm s^-1\n",
    "    rho = (P/K)**(1/gam)\n",
    "    e = P/(rho*(gam-1))\n",
    "    dP_r = -G/r**2*(rho*(1+e/c**2) + P/c**2)*(M + 4*np.pi*r**3*P/c**2)/(1 - 2*G*M/(r*c**2))\n",
    "    return dP_r\n",
    "\n",
    "def dr(P,M,r):\n",
    "    d_r = delta/(dm_dr(P,r)/M - dP_dr(P,M,r)/P)\n",
    "    return d_r\n",
    "\n",
    "K = 1.982*10**-6   #in cgs units\n",
    "gam = 2.75\n",
    "G = 6.7*10**-8     #erg cm g^-2\n",
    "c = 3*10**10       #cm s^-1\n",
    "rho_c = 5*10**14   #g cm^-3\n",
    "P0 = K*rho_c**gam\n",
    "M0 = 0\n",
    "r0 = 0\n",
    "P = [P0]\n",
    "M = [M0]\n",
    "r = [r0]\n",
    "P_n = P0\n",
    "M_n = M0\n",
    "r_n = r0\n",
    "\n",
    "#delta = 0.23\n",
    "#drr = dr(P_n,M_n,r_n)\n",
    "\n",
    "drr = 10**3\n",
    "k1 = 0\n",
    "l1 = 0\n",
    "k2 = dm_dr(P_n+drr/2*l1,r_n+drr/2)\n",
    "l2 = dP_dr(P_n+drr/2*l1,M_n+drr/2*k1,r_n+drr/2)\n",
    "k3 = dm_dr(P_n+drr/2*l2,r_n+drr/2)\n",
    "l3 = dP_dr(P_n+drr/2*l2,M_n+drr/2*k2,r_n+drr/2)\n",
    "k4 = dm_dr(P_n+drr*l3,r_n+drr)\n",
    "l4 = dP_dr(P_n+drr*l3,M_n+drr*k3,r_n+drr)\n",
    "P_n = P_n + drr/6*(l1+2*l2+2*l3+l4)\n",
    "M_n = M_n + drr/6*(k1+2*k2+2*k3+k4)\n",
    "r_n = r_n + drr\n",
    "P.append(P_n)\n",
    "M.append(M_n)\n",
    "r.append(r_n)\n",
    "\n",
    "\n",
    "Pnot0 = 1\n",
    "while (Pnot0 == 1):\n",
    "    drr = dr(P_n,M_n,r_n)\n",
    "    k1 = dm_dr(P_n,r_n)\n",
    "    l1 = dP_dr(P_n,M_n,r_n)\n",
    "    k2 = dm_dr(P_n+drr/2*l1,r_n+drr/2)\n",
    "    l2 = dP_dr(P_n+drr/2*l1,M_n+drr/2*k1,r_n+drr/2)\n",
    "    k3 = dm_dr(P_n+drr/2*l2,r_n+drr/2)\n",
    "    l3 = dP_dr(P_n+drr/2*l2,M_n+drr/2*k2,r_n+drr/2)\n",
    "    k4 = dm_dr(P_n+drr*l3,r_n+drr)\n",
    "    l4 = dP_dr(P_n+drr*l3,M_n+drr*k3,r_n+drr)\n",
    "    P_n = P_n + drr/6*(l1+2*l2+2*l3+l4)\n",
    "    M_n = M_n + drr/6*(k1+2*k2+2*k3+k4)\n",
    "    r_n = r_n + drr\n",
    "#    print(l4)\n",
    "    P.append(P_n)\n",
    "    M.append(M_n)\n",
    "    r.append(r_n)\n",
    "    if (P_n < 1):\n",
    "        Pnot0 = 0\n",
    "    \n",
    "P = np.array(P)\n",
    "M = np.array(M)\n",
    "r = np.array(r)\n",
    "#print(M,r)"
   ]
  },
  {
   "cell_type": "code",
   "execution_count": 139,
   "metadata": {},
   "outputs": [
    {
     "data": {
      "image/png": "[encoded data removed]",
      "text/plain": [
       "<matplotlib.figure.Figure at 0x9644a90>"
      ]
     },
     "metadata": {},
     "output_type": "display_data"
    },
    {
     "data": {
      "image/png": "[encoded data removed]",
      "text/plain": [
       "<matplotlib.figure.Figure at 0x772e9e8>"
      ]
     },
     "metadata": {},
     "output_type": "display_data"
    }
   ],
   "source": [
    "plt.plot(r/10**5,M/(2*10**33),'k')\n",
    "plt.xlabel('$radius (km)$',fontsize=15)\n",
    "plt.ylabel('$M(r)/M_{\\\\odot}$',fontsize=15)\n",
    "plt.show()\n",
    "plt.plot(r/10**5,P*0.1,'k')\n",
    "plt.xlabel('$radius (km)$',fontsize=15)\n",
    "plt.ylabel('$P(r) (Pa)$',fontsize=15)\n",
    "plt.show()"
   ]
  },
  {
   "cell_type": "code",
   "execution_count": 142,
   "metadata": {
    "collapsed": true
   },
   "outputs": [],
   "source": [
    "import numpy as np\n",
    "import matplotlib.pyplot as plt\n",
    "\n",
    "\n",
    "def dm_dr(P,r):\n",
    "    K = 1.982*10**-6   #in cgs units\n",
    "    gam = 2.75\n",
    "    G = 6.7*10**-8     #erg cm g^-2\n",
    "    c = 3*10**10       #cm s^-1\n",
    "    rho = (P/K)**(1/gam)\n",
    "    e = P/(rho*(gam-1))\n",
    "    dm_r = 4*np.pi*r**2*rho*(1+e/c**2)\n",
    "    return dm_r\n",
    "def dP_dr(P,M,r):\n",
    "    K = 1.982*10**-6   #in cgs units\n",
    "    gam = 2.75\n",
    "    G = 6.7*10**-8     #erg cm g^-2\n",
    "    c = 3*10**10       #cm s^-1\n",
    "    rho = (P/K)**(1/gam)\n",
    "    e = P/(rho*(gam-1))\n",
    "    dP_r = -G/r**2*(rho*(1+e/c**2) + P/c**2)*(M + 4*np.pi*r**3*P/c**2)/(1 - 2*G*M/(r*c**2))\n",
    "    return dP_r\n",
    "\n",
    "def dr(P,M,r):\n",
    "    d_r = delta/(dm_dr(P,r)/M - dP_dr(P,M,r)/P)\n",
    "    return d_r\n",
    "\n",
    "K = 1.982*10**-6   #in cgs units\n",
    "gam = 2.75\n",
    "G = 6.7*10**-8     #erg cm g^-2\n",
    "c = 3*10**10       #cm s^-1\n",
    "\n",
    "M = []\n",
    "R = []\n",
    "\n",
    "\n",
    "#rho_c = 5*10**14   #g cm^-3\n",
    "rho_cc = np.arange(5*10**13,3*10**15,5*10**13)  #g cm^-3\n",
    "\n",
    "for rho_c in rho_cc:\n",
    "    P_n = K*rho_c**gam\n",
    "    M_n = 0\n",
    "    r_n = 0\n",
    "\n",
    "    drr = 10**3\n",
    "    k1 = 0\n",
    "    l1 = 0\n",
    "    k2 = dm_dr(P_n+drr/2*l1,r_n+drr/2)\n",
    "    l2 = dP_dr(P_n+drr/2*l1,M_n+drr/2*k1,r_n+drr/2)\n",
    "    k3 = dm_dr(P_n+drr/2*l2,r_n+drr/2)\n",
    "    l3 = dP_dr(P_n+drr/2*l2,M_n+drr/2*k2,r_n+drr/2)\n",
    "    k4 = dm_dr(P_n+drr*l3,r_n+drr)\n",
    "    l4 = dP_dr(P_n+drr*l3,M_n+drr*k3,r_n+drr)\n",
    "    P_n = P_n + drr/6*(l1+2*l2+2*l3+l4)\n",
    "    M_n = M_n + drr/6*(k1+2*k2+2*k3+k4)\n",
    "    r_n = r_n + drr\n",
    "\n",
    "    Pnot0 = 1\n",
    "    while (Pnot0 == 1):\n",
    "        drr = dr(P_n,M_n,r_n)\n",
    "        k1 = dm_dr(P_n,r_n)\n",
    "        l1 = dP_dr(P_n,M_n,r_n)\n",
    "        k2 = dm_dr(P_n+drr/2*l1,r_n+drr/2)\n",
    "        l2 = dP_dr(P_n+drr/2*l1,M_n+drr/2*k1,r_n+drr/2)\n",
    "        k3 = dm_dr(P_n+drr/2*l2,r_n+drr/2)\n",
    "        l3 = dP_dr(P_n+drr/2*l2,M_n+drr/2*k2,r_n+drr/2)\n",
    "        k4 = dm_dr(P_n+drr*l3,r_n+drr)\n",
    "        l4 = dP_dr(P_n+drr*l3,M_n+drr*k3,r_n+drr)\n",
    "        P_n = P_n + drr/6*(l1+2*l2+2*l3+l4)\n",
    "        M_n = M_n + drr/6*(k1+2*k2+2*k3+k4)\n",
    "        r_n = r_n + drr\n",
    "#    print(l4)\n",
    "        if (P_n < 1):\n",
    "            M.append(M_n)\n",
    "            R.append(r_n)\n",
    "            Pnot0 = 0\n",
    "    \n",
    "M = np.array(M)\n",
    "R = np.array(R)"
   ]
  },
  {
   "cell_type": "code",
   "execution_count": 143,
   "metadata": {},
   "outputs": [
    {
     "data": {
      "image/png": "[encoded data removed]",
      "text/plain": [
       "<matplotlib.figure.Figure at 0x7b16080>"
      ]
     },
     "metadata": {},
     "output_type": "display_data"
    }
   ],
   "source": [
    "plt.plot(R/10**5,M/(2*10**33),'k')\n",
    "plt.xlabel('$Radius (km)$',fontsize=15)\n",
    "plt.ylabel('$M/M_{\\\\odot}$',fontsize=15)\n",
    "plt.show()"
   ]
  },
  {
   "cell_type": "markdown",
   "metadata": {},
   "source": [
    "# 3. Supernovae and Neutron Stars"
   ]
  },
  {
   "cell_type": "markdown",
   "metadata": {},
   "source": [
    "## (a)"
   ]
  },
  {
   "cell_type": "markdown",
   "metadata": {},
   "source": [
    "with $E = mc^{2} \\sim 10^{51}\\ erg$\n",
    "\n",
    "$P = \\frac{E}{c}$\n",
    "\n",
    "according to the conservation of angular momentum\n",
    "\n",
    "$P_{NS} = P_{no} \\sim 3\\times10^{40}\\ g\\ cm^{2}\\ s^{-1}$\n",
    "\n",
    "for the neutron star has a typical mass $\\sim 1.4M_{\\odot}$\n",
    "\n",
    "=> the kick velocity of the neutron star $v_{k} = \\frac{P_{NS}}{M_{NS}} \\sim 10^{7}\\ cm\\ s^-1$, namely $\\sim 100\\ km\\ s^{-1}$"
   ]
  },
  {
   "cell_type": "markdown",
   "metadata": {},
   "source": [
    "## (b)"
   ]
  },
  {
   "cell_type": "markdown",
   "metadata": {},
   "source": [
    "with $E_{rot} = \\int_{0}^{R}\\frac{1}{2}I\\omega^{2}$\n",
    "\n",
    "\n",
    "   $\\qquad=\\frac{2\\pi^{2}M}{\\frac{4}{3}\\pi P^{2}R^{3}}\\int_{0}^{R}4\\pi r^{3}\\sqrt{R^{2}-r^{2}}dr = \\frac{4\\pi^{2}}{5}\\frac{MR^{2}}{P^{2}} \\approx 4.3\\times10^{48} erg$\n",
    "\n",
    "$|\\frac{dE}{dt}| = \\frac{8\\pi^{2}}{5}\\frac{MR^{2}}{P^{3}}\\dot{P} \\approx 2.6\\times10^{44}\\ erg\\ yr^{-1}\\qquad$(here take $R = 14km$)\n",
    "\n",
    "=> $t \\sim \\frac{E_{rot}}{|dE/dt|} \\sim \\frac{P}{2\\dot{P}} \\sim 1.67\\times10^{4} yr$"
   ]
  },
  {
   "cell_type": "markdown",
   "metadata": {},
   "source": [
    "## (c)"
   ]
  },
  {
   "cell_type": "markdown",
   "metadata": {},
   "source": [
    "$E_{nos} \\sim 10^{53}\\ erg$\n",
    "\n",
    "$n_{nos} \\sim 10^{57}$\n",
    "\n",
    "$E_{\\nu} = \\frac{E_{nos}}{n_{nos}} \\sim 50\\ MeV$"
   ]
  },
  {
   "cell_type": "markdown",
   "metadata": {},
   "source": [
    "with $\\sigma_{\\nu A} = \\sigma_{0}(\\frac{A}{24})^{2}(\\frac{E_{\\nu}}{m_{e}c^{2}})^{2}\\qquad\\sigma_{0} = 1.7\\times10^{-44}cm^{2}$\n",
    "\n",
    "the reaction rate of neutrinos with human body\n",
    "\n",
    "$r = F_{\\nu}\\sigma_{\\nu A}\\rho_{A}$"
   ]
  },
  {
   "cell_type": "markdown",
   "metadata": {},
   "source": [
    "take human body as a container with $100kg$ water in it\n",
    "\n",
    "$\\sigma_{\\nu A} = \\sigma_{\\nu H} + \\sigma_{\\nu O} \\sim 10^{-40}\\ cm^{2}$\n",
    "\n",
    "$F_{\\nu} = \\frac{n_{nos}}{4\\pi D^{2}} \\sim 10^{56}D^{-2}$\n",
    "\n",
    "$\\rho_{A} \\approx \\frac{1}{18m_{u}}\\ cm^{-3} \\sim 3.35\\times10^{22}\\ cm^{-3}$\n"
   ]
  },
  {
   "cell_type": "markdown",
   "metadata": {},
   "source": [
    "assume that the $E_{\\nu}$ is 10% absorbed by hunman body after reaction\n",
    "\n",
    "the total energy from a supernova event $E = rV_{body} \\sim 2.68\\times10^{38}D^{-2}\\ erg$"
   ]
  },
  {
   "cell_type": "markdown",
   "metadata": {},
   "source": [
    "With about a acute dose of 5 Sv of radiation is fatal to a human, which equals\n",
    "\n",
    "an energy apsorption of $5\\times10^{9}\\ erg$ for $100kg$ human($\\rho\\sim 1\\ g\\ cm^{-3}$).\n",
    "\n",
    "corresponding to the distance $D \\sim 2.3\\times10^{14}\\ cm \\sim 15\\ AU$\n",
    "\n",
    "and if assume that the $E_{\\nu}$ is completely absorbed we can get a $D \\sim 50\\ AU$"
   ]
  },
  {
   "cell_type": "markdown",
   "metadata": {},
   "source": [
    "# 4. Half-life of Ni"
   ]
  },
  {
   "cell_type": "markdown",
   "metadata": {},
   "source": [
    "$\\ ^{56}Ni \\to ^{56}Co \\to ^{56}Fe$"
   ]
  },
  {
   "cell_type": "markdown",
   "metadata": {},
   "source": [
    "## (a)"
   ]
  },
  {
   "cell_type": "markdown",
   "metadata": {},
   "source": [
    "with the decay constant $\\lambda$\n",
    "\n",
    "$\\frac{dN_{Ni}}{dt} = -\\lambda_{Ni}N_{Ni}\\qquad\\qquad\\qquad$(1)\n",
    "\n",
    "$\\frac{dN_{Co}}{dt} = \\lambda_{Ni}N_{Ni} - \\lambda_{Co}N_{Co}\\qquad\\ \\ \\ \\ $(2)\n",
    "\n",
    "$\\frac{dN_{Fe}}{dt} = \\lambda_{Co}N_{Co}\\qquad\\qquad\\qquad\\ $(3)\n",
    "\n",
    "here $\\lambda_{Ni} = ln(2)/\\tau_{1/2Ni}\\qquad\\lambda_{Co} = ln(2)/\\tau_{1/2Co}$"
   ]
  },
  {
   "cell_type": "markdown",
   "metadata": {},
   "source": [
    "## (b)"
   ]
  },
  {
   "cell_type": "markdown",
   "metadata": {},
   "source": [
    "for equation(1), take $N_{Ni}(t=0) = n_{0}$\n",
    "\n",
    "we can readily get that\n",
    "\n",
    "$N_{Ni} =  n_{0}e^{-\\lambda_{Ni}t}$\n",
    "\n",
    "times $e^{\\lambda_{Co}t}$ in both sides of equation (2)\n",
    "\n",
    "we can get \n",
    "\n",
    "$d(e^{\\lambda_{Co}t}N_{Co}) = \\lambda_{Ni}n_{0}e^{\\lambda_{Co}t-\\lambda_{Ni}t}dt$\n",
    "\n",
    "with $N_{Co0} = 0$\n",
    "\n",
    "we can get that\n",
    "\n",
    "$N_{Co} = n_{0}\\frac{\\lambda_{Ni}}{\\lambda_{Ni}-\\lambda_{Co}}(e^{-\\lambda_{Co}t} - e^{-\\lambda_{Ni}t})$\n",
    "\n",
    "and finaly we can easily get that\n",
    "\n",
    "$N_{Fe} = n_{0}(1 + \\frac{\\lambda_{Co}}{\\lambda_{Ni}-\\lambda_{Co}}e^{-\\lambda_{Ni}t} - \\frac{\\lambda_{Ni}}{\\lambda_{Ni}-\\lambda_{Co}}e^{-\\lambda_{Co}t})$"
   ]
  },
  {
   "cell_type": "markdown",
   "metadata": {},
   "source": [
    "## (c)"
   ]
  },
  {
   "cell_type": "markdown",
   "metadata": {},
   "source": [
    "considering that the energy released is from the radioactive decay of $ ^{56}Ni$ and $ ^{56}Co$\n",
    "\n",
    "$L(t) = Q_{Ni}\\lambda_{Ni}N_{Ni} + Q_{Co}\\lambda_{Co}N_{Co}\\qquad$(I don't give the form same with the given one)\n",
    "\n",
    "with the equations in (a)\n",
    "\n",
    "thus $L(t) = -Q_{Ni}\\frac{dNi}{dt} + Q_{Co}(-\\frac{dCo}{dt} - \\frac{dNi}{dt}) = -(Q_{Ni} + Q_{Co})\\frac{dNi}{dt} - Q_{Co}\\frac{dCo}{dt}$\n",
    "\n",
    "$\\ \\ \\ \\qquad = (Q_{Ni} + Q_{Co})\\lambda_{Ni}n_{0}e^{-\\lambda_{Ni}t} + Q_{C0}n_{0}\\frac{\\lambda_{Ni}}{\\lambda_{Ni}-\\lambda_{Co}}(\\lambda_{Co}e^{-\\lambda_{Co}t} - \\lambda_{Ni}e^{-\\lambda_{Ni}t})$"
   ]
  },
  {
   "cell_type": "markdown",
   "metadata": {},
   "source": [
    "## (d)"
   ]
  },
  {
   "cell_type": "code",
   "execution_count": 1,
   "metadata": {
    "collapsed": true
   },
   "outputs": [],
   "source": [
    "import numpy as np\n",
    "import matplotlib.pyplot as plt\n",
    "\n",
    "t = np.arange(0,60*24*3600,300)\n",
    "n0 = 2*10**33/(55.942132*1.6605388*10**-24)\n",
    "Q_Ni = 2.136*1.6*10**-6     # erg\n",
    "Q_Co = 4.564*1.6*10**-6     # erg\n",
    "tau_Ni12 = 6.1*24*3600      # s\n",
    "tau_Co12 = 77.1*24*3600     # s\n",
    "lmd_Ni = np.log(2)/tau_Ni12 # s^-1\n",
    "lmd_Co = np.log(2)/tau_Co12 # s^-1\n",
    "L_t = ((Q_Ni + Q_Co)*lmd_Ni*n0*np.exp(-lmd_Ni*t) + Q_Co*n0*lmd_Ni/(lmd_Ni-lmd_Co)*(lmd_Co*np.exp(-lmd_Co*t)\n",
    "         -lmd_Ni*np.exp(-lmd_Ni*t)))"
   ]
  },
  {
   "cell_type": "code",
   "execution_count": 2,
   "metadata": {},
   "outputs": [
    {
     "data": {
      "image/png": "[encoded data removed]",
      "text/plain": [
       "<matplotlib.figure.Figure at 0x4921c18>"
      ]
     },
     "metadata": {},
     "output_type": "display_data"
    }
   ],
   "source": [
    "plt.plot(t/(24*3600),L_t/(3.8*10**33),'k')\n",
    "plt.xlabel('$time\\ (d)$',fontsize=15)\n",
    "plt.ylabel('$L/L_{\\\\odot}$',fontsize=15)\n",
    "plt.show()"
   ]
  },
  {
   "cell_type": "code",
   "execution_count": 18,
   "metadata": {
    "collapsed": true
   },
   "outputs": [],
   "source": [
    "import numpy as np\n",
    "import matplotlib.pyplot as plt\n",
    "\n",
    "t = np.arange(0,60*24*3600,300)\n",
    "n0 = 2*10**33/(55.942132*1.6605388*10**-24)\n",
    "Q_Ni = 2.136*1.6*10**-6     # erg\n",
    "Q_Co = 4.564*1.6*10**-6     # erg\n",
    "tau_Ni12 = 6.1*24*3600      # s\n",
    "tau_Co12 = 77.1*24*3600     # s\n",
    "lmd_Ni = np.log(2)/tau_Ni12 # s^-1\n",
    "lmd_Co = np.log(2)/tau_Co12 # s^-1\n",
    "L_t = ((Q_Ni + Q_Co)*lmd_Ni*n0*np.exp(-lmd_Ni*t) + Q_Co*n0*lmd_Ni/(lmd_Ni-lmd_Co)*(lmd_Co*np.exp(-lmd_Co*t)\n",
    "         -lmd_Ni*np.exp(-lmd_Ni*t)))"
   ]
  },
  {
   "cell_type": "code",
   "execution_count": 17,
   "metadata": {},
   "outputs": [
    {
     "data": {
      "image/png": "[encoded data removed]",
      "text/plain": [
       "<matplotlib.figure.Figure at 0x7c10278>"
      ]
     },
     "metadata": {},
     "output_type": "display_data"
    }
   ],
   "source": [
    "M = -2.5*np.log10(L_t)\n",
    "plt.plot(t[0:]/(24*3600),M[0:],'k')\n",
    "plt.gca().invert_yaxis()\n",
    "plt.xlabel('$time\\ (d)$',fontsize=15)\n",
    "plt.ylabel('$M_{bol}$',fontsize=15)\n",
    "plt.show()"
   ]
  },
  {
   "cell_type": "code",
   "execution_count": null,
   "metadata": {
    "collapsed": true
   },
   "outputs": [],
   "source": []
  }
 ],
 "metadata": {
  "kernelspec": {
   "display_name": "Python 3",
   "language": "python",
   "name": "python3"
  },
  "language_info": {
   "codemirror_mode": {
    "name": "ipython",
    "version": 3
   },
   "file_extension": ".py",
   "mimetype": "text/x-python",
   "name": "python",
   "nbconvert_exporter": "python",
   "pygments_lexer": "ipython3",
   "version": "3.4.4"
  }
 },
 "nbformat": 4,
 "nbformat_minor": 2
}
